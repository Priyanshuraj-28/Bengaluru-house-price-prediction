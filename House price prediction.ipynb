{
 "cells": [
  {
   "cell_type": "raw",
   "id": "647e325f",
   "metadata": {},
   "source": [
    "What are the things that a potential home buyer considers before purchasing a house? The location, the size of the property, vicinity to offices, schools, parks, restaurants, hospitals or the stereotypical white picket fence? What about the most important factor -- the price? Now with the lingering impact of demonetization, the enforcement of the Real Estate (Regulation and Development) Act (RERA), and the lack of trust in property developers in the city, housing units sold across India in 2017 dropped by 7 percent. In fact, the property prices in Bengaluru fell by almost 5 percent in the second half of 2017, said a study published by property consultancy Knight Frank. For example, for a potential homeowner, over 9,000 apartment projects and flats for sale are available in the range of ₹42-52 lakh, followed by over 7,100 apartments that are in the ₹52-62 lakh budget segment, says a report by property website Makaan. According to the study, there are over 5,000 projects in the ₹15-25 lakh budget segment followed by those in the ₹34-43 lakh budget category. Buying a home, especially in a city like Bengaluru, is a tricky choice. While the major factors are usually the same for all metros, there are others to be considered for the Silicon Valley of India. With its help millennial crowd, vibrant culture, great climate and a slew of job opportunities, it is difficult to ascertain the price of a house in Bengaluru.   So what determines the property prices in Namma Bengaluru? Data : The train and test data will consist of various features that describe that property in Bengaluru. This is an actual data set that is curated over months of primary & secondary research by our team. Each row contains fixed size object of features. There are 9 features and each feature can be accessed by its name. Features Area_type - describes the area Availability - when it can be possessed or when it is ready(categorical and time-series) Location - where it is located in Bengaluru Price - Value of the property in lakhs(INR) Size - in BHK or Bedroom (1-10 or more) Society - to which society it belongs Total_sqft - size of the property in sq.ft Bath - No. of bathrooms Balcony - No. of the balcony Problem Statement With the given 9 features(categorical and continuous) "
   ]
  },
  {
   "cell_type": "markdown",
   "id": "3c83ce4f",
   "metadata": {},
   "source": [
    "### data dictionary\n",
    "There are 9 features and each feature can be accessed by its name.\n",
    "- Area_type = describes the area.\n",
    "- Availability = when it can be possessed or when it is ready(categorical and time-series)  \n",
    "- Location = where it is located in Bengaluru \n",
    "- Price = Value of the property in lakhs(INR) \n",
    "- Size = in BHK or Bedroom (1-10 or more) \n",
    "- Society = to which society it belongs \n",
    "- Total_sqft = size of the property in sq.ft \n",
    "- Bath = No. of bathrooms \n",
    "- Balcony = No. of the balcony "
   ]
  },
  {
   "cell_type": "markdown",
   "id": "4b4ddc48",
   "metadata": {},
   "source": [
    "#### Problem statement\n",
    "- build a model to predict the price of houses in Bengaluru."
   ]
  },
  {
   "cell_type": "markdown",
   "id": "c7ed27bc",
   "metadata": {},
   "source": [
    "### Import Libraries"
   ]
  },
  {
   "cell_type": "code",
   "execution_count": 1,
   "id": "61152d04",
   "metadata": {},
   "outputs": [],
   "source": [
    "import pandas as pd\n",
    "import numpy as np\n",
    "import seaborn as sns\n",
    "import matplotlib.pyplot as plt"
   ]
  },
  {
   "cell_type": "code",
   "execution_count": 2,
   "id": "2006d838",
   "metadata": {},
   "outputs": [],
   "source": [
    "import warnings \n",
    "warnings.filterwarnings('ignore')"
   ]
  },
  {
   "cell_type": "markdown",
   "id": "08491651",
   "metadata": {},
   "source": [
    "### Load the dataset"
   ]
  },
  {
   "cell_type": "code",
   "execution_count": 3,
   "id": "a8d845f3",
   "metadata": {},
   "outputs": [],
   "source": [
    "train = pd.read_csv('Train.csv')\n",
    "test = pd.read_csv('Test.csv')"
   ]
  },
  {
   "cell_type": "code",
   "execution_count": 4,
   "id": "08b21930",
   "metadata": {},
   "outputs": [
    {
     "data": {
      "text/plain": [
       "(13320, 9)"
      ]
     },
     "execution_count": 4,
     "metadata": {},
     "output_type": "execute_result"
    }
   ],
   "source": [
    "train.shape # shape of train data is 13320x9."
   ]
  },
  {
   "cell_type": "code",
   "execution_count": 5,
   "id": "6acae17f",
   "metadata": {},
   "outputs": [
    {
     "data": {
      "text/plain": [
       "(1480, 9)"
      ]
     },
     "execution_count": 5,
     "metadata": {},
     "output_type": "execute_result"
    }
   ],
   "source": [
    "test.shape # shape of test data is 1480 x 9."
   ]
  },
  {
   "cell_type": "code",
   "execution_count": 6,
   "id": "f890310f",
   "metadata": {},
   "outputs": [
    {
     "data": {
      "text/html": [
       "<div>\n",
       "<style scoped>\n",
       "    .dataframe tbody tr th:only-of-type {\n",
       "        vertical-align: middle;\n",
       "    }\n",
       "\n",
       "    .dataframe tbody tr th {\n",
       "        vertical-align: top;\n",
       "    }\n",
       "\n",
       "    .dataframe thead th {\n",
       "        text-align: right;\n",
       "    }\n",
       "</style>\n",
       "<table border=\"1\" class=\"dataframe\">\n",
       "  <thead>\n",
       "    <tr style=\"text-align: right;\">\n",
       "      <th></th>\n",
       "      <th>area_type</th>\n",
       "      <th>availability</th>\n",
       "      <th>location</th>\n",
       "      <th>size</th>\n",
       "      <th>society</th>\n",
       "      <th>total_sqft</th>\n",
       "      <th>bath</th>\n",
       "      <th>balcony</th>\n",
       "      <th>price</th>\n",
       "    </tr>\n",
       "  </thead>\n",
       "  <tbody>\n",
       "    <tr>\n",
       "      <th>0</th>\n",
       "      <td>Super built-up  Area</td>\n",
       "      <td>19-Dec</td>\n",
       "      <td>Electronic City Phase II</td>\n",
       "      <td>2 BHK</td>\n",
       "      <td>Coomee</td>\n",
       "      <td>1056</td>\n",
       "      <td>2.0</td>\n",
       "      <td>1.0</td>\n",
       "      <td>39.07</td>\n",
       "    </tr>\n",
       "    <tr>\n",
       "      <th>1</th>\n",
       "      <td>Plot  Area</td>\n",
       "      <td>Ready To Move</td>\n",
       "      <td>Chikka Tirupathi</td>\n",
       "      <td>4 Bedroom</td>\n",
       "      <td>Theanmp</td>\n",
       "      <td>2600</td>\n",
       "      <td>5.0</td>\n",
       "      <td>3.0</td>\n",
       "      <td>120.00</td>\n",
       "    </tr>\n",
       "  </tbody>\n",
       "</table>\n",
       "</div>"
      ],
      "text/plain": [
       "              area_type   availability                  location       size  \\\n",
       "0  Super built-up  Area         19-Dec  Electronic City Phase II      2 BHK   \n",
       "1            Plot  Area  Ready To Move          Chikka Tirupathi  4 Bedroom   \n",
       "\n",
       "   society total_sqft  bath  balcony   price  \n",
       "0  Coomee        1056   2.0      1.0   39.07  \n",
       "1  Theanmp       2600   5.0      3.0  120.00  "
      ]
     },
     "execution_count": 6,
     "metadata": {},
     "output_type": "execute_result"
    }
   ],
   "source": [
    "train.head(2)"
   ]
  },
  {
   "cell_type": "code",
   "execution_count": 7,
   "id": "82870790",
   "metadata": {},
   "outputs": [
    {
     "name": "stdout",
     "output_type": "stream",
     "text": [
      "<class 'pandas.core.frame.DataFrame'>\n",
      "RangeIndex: 13320 entries, 0 to 13319\n",
      "Data columns (total 9 columns):\n",
      " #   Column        Non-Null Count  Dtype  \n",
      "---  ------        --------------  -----  \n",
      " 0   area_type     13320 non-null  object \n",
      " 1   availability  13320 non-null  object \n",
      " 2   location      13319 non-null  object \n",
      " 3   size          13304 non-null  object \n",
      " 4   society       7818 non-null   object \n",
      " 5   total_sqft    13320 non-null  object \n",
      " 6   bath          13247 non-null  float64\n",
      " 7   balcony       12711 non-null  float64\n",
      " 8   price         13320 non-null  float64\n",
      "dtypes: float64(3), object(6)\n",
      "memory usage: 936.7+ KB\n"
     ]
    }
   ],
   "source": [
    "train.info()"
   ]
  },
  {
   "cell_type": "code",
   "execution_count": 8,
   "id": "ec992b52",
   "metadata": {},
   "outputs": [],
   "source": [
    "### Inferences:\n",
    "#- size,society,bath and balcony have null values."
   ]
  },
  {
   "cell_type": "code",
   "execution_count": 9,
   "id": "66bdf128",
   "metadata": {},
   "outputs": [
    {
     "data": {
      "text/html": [
       "<div>\n",
       "<style scoped>\n",
       "    .dataframe tbody tr th:only-of-type {\n",
       "        vertical-align: middle;\n",
       "    }\n",
       "\n",
       "    .dataframe tbody tr th {\n",
       "        vertical-align: top;\n",
       "    }\n",
       "\n",
       "    .dataframe thead th {\n",
       "        text-align: right;\n",
       "    }\n",
       "</style>\n",
       "<table border=\"1\" class=\"dataframe\">\n",
       "  <thead>\n",
       "    <tr style=\"text-align: right;\">\n",
       "      <th></th>\n",
       "      <th>area_type</th>\n",
       "      <th>availability</th>\n",
       "      <th>location</th>\n",
       "      <th>size</th>\n",
       "      <th>society</th>\n",
       "      <th>total_sqft</th>\n",
       "      <th>bath</th>\n",
       "      <th>balcony</th>\n",
       "      <th>price</th>\n",
       "    </tr>\n",
       "  </thead>\n",
       "  <tbody>\n",
       "    <tr>\n",
       "      <th>0</th>\n",
       "      <td>Super built-up  Area</td>\n",
       "      <td>Ready To Move</td>\n",
       "      <td>Brookefield</td>\n",
       "      <td>2 BHK</td>\n",
       "      <td>Roeekbl</td>\n",
       "      <td>1225</td>\n",
       "      <td>2.0</td>\n",
       "      <td>2.0</td>\n",
       "      <td>NaN</td>\n",
       "    </tr>\n",
       "    <tr>\n",
       "      <th>1</th>\n",
       "      <td>Plot  Area</td>\n",
       "      <td>Ready To Move</td>\n",
       "      <td>Akshaya Nagar</td>\n",
       "      <td>9 Bedroom</td>\n",
       "      <td>NaN</td>\n",
       "      <td>2400</td>\n",
       "      <td>9.0</td>\n",
       "      <td>2.0</td>\n",
       "      <td>NaN</td>\n",
       "    </tr>\n",
       "  </tbody>\n",
       "</table>\n",
       "</div>"
      ],
      "text/plain": [
       "              area_type   availability       location       size  society  \\\n",
       "0  Super built-up  Area  Ready To Move    Brookefield      2 BHK  Roeekbl   \n",
       "1            Plot  Area  Ready To Move  Akshaya Nagar  9 Bedroom      NaN   \n",
       "\n",
       "  total_sqft  bath  balcony  price  \n",
       "0       1225   2.0      2.0    NaN  \n",
       "1       2400   9.0      2.0    NaN  "
      ]
     },
     "execution_count": 9,
     "metadata": {},
     "output_type": "execute_result"
    }
   ],
   "source": [
    "test.head(2)"
   ]
  },
  {
   "cell_type": "code",
   "execution_count": 10,
   "id": "8c82e130",
   "metadata": {},
   "outputs": [
    {
     "name": "stdout",
     "output_type": "stream",
     "text": [
      "<class 'pandas.core.frame.DataFrame'>\n",
      "RangeIndex: 1480 entries, 0 to 1479\n",
      "Data columns (total 9 columns):\n",
      " #   Column        Non-Null Count  Dtype  \n",
      "---  ------        --------------  -----  \n",
      " 0   area_type     1480 non-null   object \n",
      " 1   availability  1480 non-null   object \n",
      " 2   location      1480 non-null   object \n",
      " 3   size          1478 non-null   object \n",
      " 4   society       854 non-null    object \n",
      " 5   total_sqft    1480 non-null   object \n",
      " 6   bath          1473 non-null   float64\n",
      " 7   balcony       1411 non-null   float64\n",
      " 8   price         0 non-null      float64\n",
      "dtypes: float64(3), object(6)\n",
      "memory usage: 104.2+ KB\n"
     ]
    }
   ],
   "source": [
    "test.info()"
   ]
  },
  {
   "cell_type": "code",
   "execution_count": 11,
   "id": "bc60d1b1",
   "metadata": {},
   "outputs": [
    {
     "data": {
      "text/plain": [
       "Series([], Name: price, dtype: int64)"
      ]
     },
     "execution_count": 11,
     "metadata": {},
     "output_type": "execute_result"
    }
   ],
   "source": [
    "test['price'].value_counts()"
   ]
  },
  {
   "cell_type": "code",
   "execution_count": 12,
   "id": "8b2d1854",
   "metadata": {},
   "outputs": [],
   "source": [
    "## price column has no data inside it.(In test dataset since it is a target column.)"
   ]
  },
  {
   "cell_type": "markdown",
   "id": "e9a9c1ff",
   "metadata": {},
   "source": [
    "### Check and treat for null values before combining the dataset"
   ]
  },
  {
   "cell_type": "code",
   "execution_count": 13,
   "id": "f51b7658",
   "metadata": {},
   "outputs": [
    {
     "data": {
      "text/plain": [
       "area_type          0\n",
       "availability       0\n",
       "location           1\n",
       "size              16\n",
       "society         5502\n",
       "total_sqft         0\n",
       "bath              73\n",
       "balcony          609\n",
       "price              0\n",
       "dtype: int64"
      ]
     },
     "execution_count": 13,
     "metadata": {},
     "output_type": "execute_result"
    }
   ],
   "source": [
    "train.isnull().sum()"
   ]
  },
  {
   "cell_type": "code",
   "execution_count": null,
   "id": "d114eaa0",
   "metadata": {},
   "outputs": [],
   "source": []
  },
  {
   "cell_type": "code",
   "execution_count": 14,
   "id": "af654bfc",
   "metadata": {},
   "outputs": [
    {
     "name": "stdout",
     "output_type": "stream",
     "text": [
      "size\n",
      "2 BHK         540\n",
      "3 BHK         478\n",
      "4 Bedroom      92\n",
      "4 BHK          82\n",
      "3 Bedroom      66\n",
      "1 BHK          54\n",
      "5 Bedroom      41\n",
      "2 Bedroom      39\n",
      "1 Bedroom      17\n",
      "6 Bedroom      17\n",
      "7 Bedroom      12\n",
      "8 Bedroom      10\n",
      "9 Bedroom       8\n",
      "9 BHK           5\n",
      "6 BHK           5\n",
      "10 Bedroom      3\n",
      "8 BHK           3\n",
      "1 RK            2\n",
      "5 BHK           2\n",
      "7 BHK           1\n",
      "16 Bedroom      1\n",
      "Name: size, dtype: int64\n",
      "\n",
      "society\n",
      "GrrvaGr    12\n",
      "Bhmesy     12\n",
      "Soitya      9\n",
      "Prarkun     8\n",
      "DLhtsnd     7\n",
      "           ..\n",
      "V2anags     1\n",
      "Cehosy      1\n",
      "Kuownri     1\n",
      "SSaleRo     1\n",
      "MaicaRS     1\n",
      "Name: society, Length: 594, dtype: int64\n",
      "\n",
      "bath\n",
      "2.0     744\n",
      "3.0     371\n",
      "4.0     149\n",
      "1.0      83\n",
      "5.0      62\n",
      "6.0      30\n",
      "7.0      11\n",
      "9.0       9\n",
      "8.0       9\n",
      "10.0      4\n",
      "16.0      1\n",
      "Name: bath, dtype: int64\n",
      "\n",
      "balcony\n",
      "1.0    547\n",
      "2.0    545\n",
      "3.0    189\n",
      "0.0    130\n",
      "Name: balcony, dtype: int64\n",
      "\n"
     ]
    }
   ],
   "source": [
    "for i in ['size','society','bath','balcony']:\n",
    "    print(i,test[i].value_counts(),sep='\\n',end='\\n\\n')"
   ]
  },
  {
   "cell_type": "code",
   "execution_count": 15,
   "id": "1ebcfc96",
   "metadata": {},
   "outputs": [],
   "source": [
    "train['society'].fillna('0',inplace=True)"
   ]
  },
  {
   "cell_type": "code",
   "execution_count": 16,
   "id": "4baae97f",
   "metadata": {},
   "outputs": [],
   "source": [
    "for i in ['size','bath','balcony','location']:\n",
    "    train[i].fillna(train[i].mode()[0],inplace=True)"
   ]
  },
  {
   "cell_type": "code",
   "execution_count": 17,
   "id": "5787d6a1",
   "metadata": {},
   "outputs": [
    {
     "data": {
      "text/plain": [
       "area_type       0\n",
       "availability    0\n",
       "location        0\n",
       "size            0\n",
       "society         0\n",
       "total_sqft      0\n",
       "bath            0\n",
       "balcony         0\n",
       "price           0\n",
       "dtype: int64"
      ]
     },
     "execution_count": 17,
     "metadata": {},
     "output_type": "execute_result"
    }
   ],
   "source": [
    "train.isnull().sum()"
   ]
  },
  {
   "cell_type": "code",
   "execution_count": 18,
   "id": "92978c80",
   "metadata": {},
   "outputs": [
    {
     "data": {
      "text/plain": [
       "area_type          0\n",
       "availability       0\n",
       "location           0\n",
       "size               2\n",
       "society          626\n",
       "total_sqft         0\n",
       "bath               7\n",
       "balcony           69\n",
       "price           1480\n",
       "dtype: int64"
      ]
     },
     "execution_count": 18,
     "metadata": {},
     "output_type": "execute_result"
    }
   ],
   "source": [
    "test.isnull().sum()"
   ]
  },
  {
   "cell_type": "code",
   "execution_count": 19,
   "id": "42a4ad75",
   "metadata": {},
   "outputs": [],
   "source": [
    "test['society'].fillna('0',inplace=True)"
   ]
  },
  {
   "cell_type": "code",
   "execution_count": 20,
   "id": "e62a6e0a",
   "metadata": {},
   "outputs": [],
   "source": [
    "for i in ['size','bath','balcony']:\n",
    "    test[i].fillna(test[i].mode()[0],inplace=True)"
   ]
  },
  {
   "cell_type": "code",
   "execution_count": 21,
   "id": "5520d74d",
   "metadata": {},
   "outputs": [
    {
     "data": {
      "text/plain": [
       "area_type          0\n",
       "availability       0\n",
       "location           0\n",
       "size               0\n",
       "society            0\n",
       "total_sqft         0\n",
       "bath               0\n",
       "balcony            0\n",
       "price           1480\n",
       "dtype: int64"
      ]
     },
     "execution_count": 21,
     "metadata": {},
     "output_type": "execute_result"
    }
   ],
   "source": [
    "test.isnull().sum()"
   ]
  },
  {
   "cell_type": "markdown",
   "id": "d5d7fedb",
   "metadata": {},
   "source": [
    "### Combine the dataset"
   ]
  },
  {
   "cell_type": "code",
   "execution_count": 22,
   "id": "fad5883b",
   "metadata": {},
   "outputs": [],
   "source": [
    "data = pd.concat([train,test])"
   ]
  },
  {
   "cell_type": "code",
   "execution_count": 23,
   "id": "e4801503",
   "metadata": {},
   "outputs": [
    {
     "data": {
      "text/html": [
       "<div>\n",
       "<style scoped>\n",
       "    .dataframe tbody tr th:only-of-type {\n",
       "        vertical-align: middle;\n",
       "    }\n",
       "\n",
       "    .dataframe tbody tr th {\n",
       "        vertical-align: top;\n",
       "    }\n",
       "\n",
       "    .dataframe thead th {\n",
       "        text-align: right;\n",
       "    }\n",
       "</style>\n",
       "<table border=\"1\" class=\"dataframe\">\n",
       "  <thead>\n",
       "    <tr style=\"text-align: right;\">\n",
       "      <th></th>\n",
       "      <th>area_type</th>\n",
       "      <th>availability</th>\n",
       "      <th>location</th>\n",
       "      <th>size</th>\n",
       "      <th>society</th>\n",
       "      <th>total_sqft</th>\n",
       "      <th>bath</th>\n",
       "      <th>balcony</th>\n",
       "      <th>price</th>\n",
       "    </tr>\n",
       "  </thead>\n",
       "  <tbody>\n",
       "    <tr>\n",
       "      <th>0</th>\n",
       "      <td>Super built-up  Area</td>\n",
       "      <td>19-Dec</td>\n",
       "      <td>Electronic City Phase II</td>\n",
       "      <td>2 BHK</td>\n",
       "      <td>Coomee</td>\n",
       "      <td>1056</td>\n",
       "      <td>2.0</td>\n",
       "      <td>1.0</td>\n",
       "      <td>39.07</td>\n",
       "    </tr>\n",
       "    <tr>\n",
       "      <th>1</th>\n",
       "      <td>Plot  Area</td>\n",
       "      <td>Ready To Move</td>\n",
       "      <td>Chikka Tirupathi</td>\n",
       "      <td>4 Bedroom</td>\n",
       "      <td>Theanmp</td>\n",
       "      <td>2600</td>\n",
       "      <td>5.0</td>\n",
       "      <td>3.0</td>\n",
       "      <td>120.00</td>\n",
       "    </tr>\n",
       "  </tbody>\n",
       "</table>\n",
       "</div>"
      ],
      "text/plain": [
       "              area_type   availability                  location       size  \\\n",
       "0  Super built-up  Area         19-Dec  Electronic City Phase II      2 BHK   \n",
       "1            Plot  Area  Ready To Move          Chikka Tirupathi  4 Bedroom   \n",
       "\n",
       "   society total_sqft  bath  balcony   price  \n",
       "0  Coomee        1056   2.0      1.0   39.07  \n",
       "1  Theanmp       2600   5.0      3.0  120.00  "
      ]
     },
     "execution_count": 23,
     "metadata": {},
     "output_type": "execute_result"
    }
   ],
   "source": [
    "data.head(2)"
   ]
  },
  {
   "cell_type": "code",
   "execution_count": 24,
   "id": "f22dab3a",
   "metadata": {},
   "outputs": [
    {
     "data": {
      "text/plain": [
       "(14800, 9)"
      ]
     },
     "execution_count": 24,
     "metadata": {},
     "output_type": "execute_result"
    }
   ],
   "source": [
    "data.shape"
   ]
  },
  {
   "cell_type": "code",
   "execution_count": 25,
   "id": "6b577982",
   "metadata": {},
   "outputs": [
    {
     "data": {
      "text/html": [
       "<div>\n",
       "<style scoped>\n",
       "    .dataframe tbody tr th:only-of-type {\n",
       "        vertical-align: middle;\n",
       "    }\n",
       "\n",
       "    .dataframe tbody tr th {\n",
       "        vertical-align: top;\n",
       "    }\n",
       "\n",
       "    .dataframe thead th {\n",
       "        text-align: right;\n",
       "    }\n",
       "</style>\n",
       "<table border=\"1\" class=\"dataframe\">\n",
       "  <thead>\n",
       "    <tr style=\"text-align: right;\">\n",
       "      <th></th>\n",
       "      <th>count</th>\n",
       "      <th>mean</th>\n",
       "      <th>std</th>\n",
       "      <th>min</th>\n",
       "      <th>25%</th>\n",
       "      <th>50%</th>\n",
       "      <th>75%</th>\n",
       "      <th>max</th>\n",
       "    </tr>\n",
       "  </thead>\n",
       "  <tbody>\n",
       "    <tr>\n",
       "      <th>bath</th>\n",
       "      <td>14800.0</td>\n",
       "      <td>2.694932</td>\n",
       "      <td>1.341274</td>\n",
       "      <td>1.0</td>\n",
       "      <td>2.0</td>\n",
       "      <td>2.0</td>\n",
       "      <td>3.0</td>\n",
       "      <td>40.0</td>\n",
       "    </tr>\n",
       "    <tr>\n",
       "      <th>balcony</th>\n",
       "      <td>14800.0</td>\n",
       "      <td>1.596622</td>\n",
       "      <td>0.805491</td>\n",
       "      <td>0.0</td>\n",
       "      <td>1.0</td>\n",
       "      <td>2.0</td>\n",
       "      <td>2.0</td>\n",
       "      <td>3.0</td>\n",
       "    </tr>\n",
       "    <tr>\n",
       "      <th>price</th>\n",
       "      <td>13320.0</td>\n",
       "      <td>112.565627</td>\n",
       "      <td>148.971674</td>\n",
       "      <td>8.0</td>\n",
       "      <td>50.0</td>\n",
       "      <td>72.0</td>\n",
       "      <td>120.0</td>\n",
       "      <td>3600.0</td>\n",
       "    </tr>\n",
       "  </tbody>\n",
       "</table>\n",
       "</div>"
      ],
      "text/plain": [
       "           count        mean         std  min   25%   50%    75%     max\n",
       "bath     14800.0    2.694932    1.341274  1.0   2.0   2.0    3.0    40.0\n",
       "balcony  14800.0    1.596622    0.805491  0.0   1.0   2.0    2.0     3.0\n",
       "price    13320.0  112.565627  148.971674  8.0  50.0  72.0  120.0  3600.0"
      ]
     },
     "execution_count": 25,
     "metadata": {},
     "output_type": "execute_result"
    }
   ],
   "source": [
    "data.describe().T"
   ]
  },
  {
   "cell_type": "code",
   "execution_count": 26,
   "id": "0beb037b",
   "metadata": {},
   "outputs": [
    {
     "data": {
      "text/html": [
       "<div>\n",
       "<style scoped>\n",
       "    .dataframe tbody tr th:only-of-type {\n",
       "        vertical-align: middle;\n",
       "    }\n",
       "\n",
       "    .dataframe tbody tr th {\n",
       "        vertical-align: top;\n",
       "    }\n",
       "\n",
       "    .dataframe thead th {\n",
       "        text-align: right;\n",
       "    }\n",
       "</style>\n",
       "<table border=\"1\" class=\"dataframe\">\n",
       "  <thead>\n",
       "    <tr style=\"text-align: right;\">\n",
       "      <th></th>\n",
       "      <th>count</th>\n",
       "      <th>unique</th>\n",
       "      <th>top</th>\n",
       "      <th>freq</th>\n",
       "    </tr>\n",
       "  </thead>\n",
       "  <tbody>\n",
       "    <tr>\n",
       "      <th>area_type</th>\n",
       "      <td>14800</td>\n",
       "      <td>4</td>\n",
       "      <td>Super built-up  Area</td>\n",
       "      <td>9736</td>\n",
       "    </tr>\n",
       "    <tr>\n",
       "      <th>availability</th>\n",
       "      <td>14800</td>\n",
       "      <td>82</td>\n",
       "      <td>Ready To Move</td>\n",
       "      <td>11743</td>\n",
       "    </tr>\n",
       "    <tr>\n",
       "      <th>location</th>\n",
       "      <td>14800</td>\n",
       "      <td>1358</td>\n",
       "      <td>Whitefield</td>\n",
       "      <td>592</td>\n",
       "    </tr>\n",
       "    <tr>\n",
       "      <th>size</th>\n",
       "      <td>14800</td>\n",
       "      <td>32</td>\n",
       "      <td>2 BHK</td>\n",
       "      <td>5757</td>\n",
       "    </tr>\n",
       "    <tr>\n",
       "      <th>society</th>\n",
       "      <td>14800</td>\n",
       "      <td>2833</td>\n",
       "      <td>0</td>\n",
       "      <td>6128</td>\n",
       "    </tr>\n",
       "    <tr>\n",
       "      <th>total_sqft</th>\n",
       "      <td>14800</td>\n",
       "      <td>2221</td>\n",
       "      <td>1200</td>\n",
       "      <td>940</td>\n",
       "    </tr>\n",
       "  </tbody>\n",
       "</table>\n",
       "</div>"
      ],
      "text/plain": [
       "              count unique                   top   freq\n",
       "area_type     14800      4  Super built-up  Area   9736\n",
       "availability  14800     82         Ready To Move  11743\n",
       "location      14800   1358            Whitefield    592\n",
       "size          14800     32                 2 BHK   5757\n",
       "society       14800   2833                     0   6128\n",
       "total_sqft    14800   2221                  1200    940"
      ]
     },
     "execution_count": 26,
     "metadata": {},
     "output_type": "execute_result"
    }
   ],
   "source": [
    "data.describe(include='object').T"
   ]
  },
  {
   "cell_type": "code",
   "execution_count": 27,
   "id": "3b043e5a",
   "metadata": {},
   "outputs": [
    {
     "name": "stdout",
     "output_type": "stream",
     "text": [
      "<class 'pandas.core.frame.DataFrame'>\n",
      "Int64Index: 14800 entries, 0 to 1479\n",
      "Data columns (total 9 columns):\n",
      " #   Column        Non-Null Count  Dtype  \n",
      "---  ------        --------------  -----  \n",
      " 0   area_type     14800 non-null  object \n",
      " 1   availability  14800 non-null  object \n",
      " 2   location      14800 non-null  object \n",
      " 3   size          14800 non-null  object \n",
      " 4   society       14800 non-null  object \n",
      " 5   total_sqft    14800 non-null  object \n",
      " 6   bath          14800 non-null  float64\n",
      " 7   balcony       14800 non-null  float64\n",
      " 8   price         13320 non-null  float64\n",
      "dtypes: float64(3), object(6)\n",
      "memory usage: 1.1+ MB\n"
     ]
    }
   ],
   "source": [
    "data.info()"
   ]
  },
  {
   "cell_type": "code",
   "execution_count": 28,
   "id": "e3b9c02f",
   "metadata": {},
   "outputs": [
    {
     "data": {
      "text/plain": [
       "1200           940\n",
       "1100           240\n",
       "1500           238\n",
       "2400           224\n",
       "600            200\n",
       "              ... \n",
       "1113.12          1\n",
       "1782 - 2000      1\n",
       "621              1\n",
       "981              1\n",
       "6750             1\n",
       "Name: total_sqft, Length: 2221, dtype: int64"
      ]
     },
     "execution_count": 28,
     "metadata": {},
     "output_type": "execute_result"
    }
   ],
   "source": [
    "data['total_sqft'].value_counts()"
   ]
  },
  {
   "cell_type": "code",
   "execution_count": 29,
   "id": "6ef56b1b",
   "metadata": {},
   "outputs": [
    {
     "data": {
      "text/plain": [
       "Index(['area_type', 'availability', 'location', 'size', 'society',\n",
       "       'total_sqft', 'bath', 'balcony', 'price'],\n",
       "      dtype='object')"
      ]
     },
     "execution_count": 29,
     "metadata": {},
     "output_type": "execute_result"
    }
   ],
   "source": [
    "data.columns"
   ]
  },
  {
   "cell_type": "code",
   "execution_count": 30,
   "id": "d8c1f2c5",
   "metadata": {},
   "outputs": [],
   "source": [
    "cat_cols=['area_type', 'availability', 'location', 'size', 'society',\n",
    "       'total_sqft', 'bath', 'balcony']"
   ]
  },
  {
   "cell_type": "markdown",
   "id": "c0c9976b",
   "metadata": {},
   "source": [
    "### Univariate Analysis"
   ]
  },
  {
   "cell_type": "code",
   "execution_count": 31,
   "id": "25436468",
   "metadata": {},
   "outputs": [
    {
     "data": {
      "image/png": "[encoded data removed]",
      "text/plain": [
       "<Figure size 432x288 with 1 Axes>"
      ]
     },
     "metadata": {
      "needs_background": "light"
     },
     "output_type": "display_data"
    }
   ],
   "source": [
    "# PRICE\n",
    "sns.distplot(data['price'])\n",
    "plt.title(f\"Price,Skewness: {data['price'].skew()}\")\n",
    "plt.show()"
   ]
  },
  {
   "cell_type": "code",
   "execution_count": 32,
   "id": "7cb656bb",
   "metadata": {},
   "outputs": [],
   "source": [
    "## price is highly positive skewed."
   ]
  },
  {
   "cell_type": "code",
   "execution_count": 33,
   "id": "edcfdb50",
   "metadata": {},
   "outputs": [
    {
     "data": {
      "text/plain": [
       "Index(['area_type', 'availability', 'location', 'size', 'society',\n",
       "       'total_sqft', 'bath', 'balcony', 'price'],\n",
       "      dtype='object')"
      ]
     },
     "execution_count": 33,
     "metadata": {},
     "output_type": "execute_result"
    }
   ],
   "source": [
    "data.columns"
   ]
  },
  {
   "cell_type": "markdown",
   "id": "feeaf60a",
   "metadata": {},
   "source": [
    "#### Area type"
   ]
  },
  {
   "cell_type": "code",
   "execution_count": 34,
   "id": "7136ad0b",
   "metadata": {},
   "outputs": [
    {
     "data": {
      "image/png": "[encoded data removed]",
      "text/plain": [
       "<Figure size 432x288 with 1 Axes>"
      ]
     },
     "metadata": {
      "needs_background": "light"
     },
     "output_type": "display_data"
    }
   ],
   "source": [
    "## area_type\n",
    "sns.countplot(x=data['area_type'],order=data['area_type'].value_counts().index)\n",
    "plt.show()"
   ]
  },
  {
   "cell_type": "code",
   "execution_count": 35,
   "id": "4c39304c",
   "metadata": {},
   "outputs": [],
   "source": [
    "# Super built-up is the area with most of the houses."
   ]
  },
  {
   "cell_type": "markdown",
   "id": "13c15e4f",
   "metadata": {},
   "source": [
    "#### Bathroom"
   ]
  },
  {
   "cell_type": "code",
   "execution_count": 36,
   "id": "11eb8202",
   "metadata": {},
   "outputs": [
    {
     "data": {
      "image/png": "[encoded data removed]",
      "text/plain": [
       "<Figure size 432x288 with 1 Axes>"
      ]
     },
     "metadata": {
      "needs_background": "light"
     },
     "output_type": "display_data"
    }
   ],
   "source": [
    "sns.countplot(x=data['bath'],order=data['bath'].value_counts().index)\n",
    "plt.xticks(rotation=90)\n",
    "plt.show()"
   ]
  },
  {
   "cell_type": "code",
   "execution_count": 37,
   "id": "8e94377f",
   "metadata": {},
   "outputs": [],
   "source": [
    "# Most of the houses have 2 bathrooms."
   ]
  },
  {
   "cell_type": "markdown",
   "id": "5baa73c1",
   "metadata": {},
   "source": [
    "#### Balcony"
   ]
  },
  {
   "cell_type": "code",
   "execution_count": 38,
   "id": "faaf7bb6",
   "metadata": {},
   "outputs": [
    {
     "data": {
      "image/png": "[encoded data removed]",
      "text/plain": [
       "<Figure size 432x288 with 1 Axes>"
      ]
     },
     "metadata": {
      "needs_background": "light"
     },
     "output_type": "display_data"
    }
   ],
   "source": [
    "sns.countplot(x=data['balcony'],order=data['balcony'].value_counts().index)\n",
    "plt.xticks(rotation=90)\n",
    "plt.show()"
   ]
  },
  {
   "cell_type": "code",
   "execution_count": 39,
   "id": "ec0a8031",
   "metadata": {},
   "outputs": [],
   "source": [
    "# Most of the houses have 2 balconies and liitle less houses have 1 balcony."
   ]
  },
  {
   "cell_type": "markdown",
   "id": "04f6c800",
   "metadata": {},
   "source": [
    "#### Location"
   ]
  },
  {
   "cell_type": "code",
   "execution_count": 40,
   "id": "6a8f9b03",
   "metadata": {},
   "outputs": [
    {
     "data": {
      "image/png": "[encoded data removed]",
      "text/plain": [
       "<Figure size 432x288 with 1 Axes>"
      ]
     },
     "metadata": {
      "needs_background": "light"
     },
     "output_type": "display_data"
    }
   ],
   "source": [
    "data['location'].value_counts().head().plot(kind='bar')\n",
    "plt.xticks(rotation=90)\n",
    "plt.show()"
   ]
  },
  {
   "cell_type": "code",
   "execution_count": 41,
   "id": "fa6d87b0",
   "metadata": {},
   "outputs": [],
   "source": [
    "# These are the top 5 locations with most of the houses for sales."
   ]
  },
  {
   "cell_type": "code",
   "execution_count": 42,
   "id": "9c97ef2d",
   "metadata": {},
   "outputs": [
    {
     "data": {
      "image/png": "[encoded data removed]",
      "text/plain": [
       "<Figure size 432x288 with 1 Axes>"
      ]
     },
     "metadata": {
      "needs_background": "light"
     },
     "output_type": "display_data"
    }
   ],
   "source": [
    "data['location'].value_counts().tail().plot(kind='bar')\n",
    "plt.xticks(rotation=90)\n",
    "plt.show()"
   ]
  },
  {
   "cell_type": "code",
   "execution_count": 43,
   "id": "66c07e3f",
   "metadata": {},
   "outputs": [],
   "source": [
    "# These are the 5 locations with least houses."
   ]
  },
  {
   "cell_type": "code",
   "execution_count": 44,
   "id": "566d67a1",
   "metadata": {},
   "outputs": [
    {
     "data": {
      "text/plain": [
       "1358"
      ]
     },
     "execution_count": 44,
     "metadata": {},
     "output_type": "execute_result"
    }
   ],
   "source": [
    "data['location'].nunique()"
   ]
  },
  {
   "cell_type": "code",
   "execution_count": 45,
   "id": "34bac705",
   "metadata": {},
   "outputs": [],
   "source": [
    "# Total unique house locations that are present in the data."
   ]
  },
  {
   "cell_type": "markdown",
   "id": "d5784d9d",
   "metadata": {},
   "source": [
    "#### Size"
   ]
  },
  {
   "cell_type": "code",
   "execution_count": 46,
   "id": "b096e44f",
   "metadata": {},
   "outputs": [
    {
     "data": {
      "image/png": "[encoded data removed]",
      "text/plain": [
       "<Figure size 432x288 with 1 Axes>"
      ]
     },
     "metadata": {
      "needs_background": "light"
     },
     "output_type": "display_data"
    }
   ],
   "source": [
    "## size\n",
    "data['size'].value_counts().head().plot(kind='bar')\n",
    "plt.xticks(rotation=90)\n",
    "plt.show()"
   ]
  },
  {
   "cell_type": "code",
   "execution_count": 47,
   "id": "eba76a71",
   "metadata": {},
   "outputs": [],
   "source": [
    "# These are the top 5 house types that are on sale.\n",
    "# Mostly 2bhk's are on sale."
   ]
  },
  {
   "cell_type": "markdown",
   "id": "6621d198",
   "metadata": {},
   "source": [
    "#### Society"
   ]
  },
  {
   "cell_type": "code",
   "execution_count": 48,
   "id": "7c29b01b",
   "metadata": {},
   "outputs": [
    {
     "data": {
      "image/png": "[encoded data removed]",
      "text/plain": [
       "<Figure size 432x288 with 1 Axes>"
      ]
     },
     "metadata": {
      "needs_background": "light"
     },
     "output_type": "display_data"
    }
   ],
   "source": [
    "## society\n",
    "data['society'].value_counts().head().plot(kind='bar')\n",
    "plt.xticks(rotation=90)\n",
    "plt.show()"
   ]
  },
  {
   "cell_type": "code",
   "execution_count": 49,
   "id": "762fd2c5",
   "metadata": {},
   "outputs": [],
   "source": [
    "# Top 5 socities with most number of the houses."
   ]
  },
  {
   "cell_type": "code",
   "execution_count": 50,
   "id": "65babf5b",
   "metadata": {},
   "outputs": [
    {
     "data": {
      "text/plain": [
       "area_type          4\n",
       "availability      82\n",
       "location        1358\n",
       "size              32\n",
       "society         2833\n",
       "total_sqft      2221\n",
       "bath              19\n",
       "balcony            4\n",
       "price           1994\n",
       "dtype: int64"
      ]
     },
     "execution_count": 50,
     "metadata": {},
     "output_type": "execute_result"
    }
   ],
   "source": [
    "data.nunique()"
   ]
  },
  {
   "cell_type": "markdown",
   "id": "04c13b2c",
   "metadata": {},
   "source": [
    "### Bivariate Analysis"
   ]
  },
  {
   "cell_type": "code",
   "execution_count": 51,
   "id": "420106a7",
   "metadata": {},
   "outputs": [
    {
     "data": {
      "text/plain": [
       "<AxesSubplot:>"
      ]
     },
     "execution_count": 51,
     "metadata": {},
     "output_type": "execute_result"
    },
    {
     "data": {
      "image/png": "[encoded data removed]",
      "text/plain": [
       "<Figure size 432x288 with 2 Axes>"
      ]
     },
     "metadata": {
      "needs_background": "light"
     },
     "output_type": "display_data"
    }
   ],
   "source": [
    "sns.heatmap(data.corr(),vmin=-1,vmax=1,annot=True,cmap='rainbow')"
   ]
  },
  {
   "cell_type": "code",
   "execution_count": 52,
   "id": "81bea392",
   "metadata": {},
   "outputs": [
    {
     "data": {
      "text/plain": [
       "<seaborn.axisgrid.PairGrid at 0x259022158b0>"
      ]
     },
     "execution_count": 52,
     "metadata": {},
     "output_type": "execute_result"
    },
    {
     "data": {
      "image/png": "[encoded data removed]",
      "text/plain": [
       "<Figure size 540x540 with 12 Axes>"
      ]
     },
     "metadata": {
      "needs_background": "light"
     },
     "output_type": "display_data"
    }
   ],
   "source": [
    "sns.pairplot(data)"
   ]
  },
  {
   "cell_type": "code",
   "execution_count": 53,
   "id": "d827a684",
   "metadata": {},
   "outputs": [
    {
     "data": {
      "text/plain": [
       "<AxesSubplot:xlabel='area_type', ylabel='price'>"
      ]
     },
     "execution_count": 53,
     "metadata": {},
     "output_type": "execute_result"
    },
    {
     "data": {
      "image/png": "[encoded data removed]",
      "text/plain": [
       "<Figure size 432x288 with 1 Axes>"
      ]
     },
     "metadata": {
      "needs_background": "light"
     },
     "output_type": "display_data"
    }
   ],
   "source": [
    "sns.boxplot(x=train['area_type'],y=train['price'])"
   ]
  },
  {
   "cell_type": "markdown",
   "id": "e556a090",
   "metadata": {},
   "source": [
    "#### Let's test the normality of the data"
   ]
  },
  {
   "cell_type": "code",
   "execution_count": 54,
   "id": "31fb7556",
   "metadata": {},
   "outputs": [],
   "source": [
    "from scipy.stats import shapiro,jarque_bera,kruskal"
   ]
  },
  {
   "cell_type": "code",
   "execution_count": 55,
   "id": "11779b90",
   "metadata": {},
   "outputs": [
    {
     "data": {
      "text/plain": [
       "ShapiroResult(statistic=0.4532784089290045, pvalue=1.6561210545989478e-107)"
      ]
     },
     "execution_count": 55,
     "metadata": {},
     "output_type": "execute_result"
    }
   ],
   "source": [
    "# Asssumption 1 : The \n",
    "\n",
    "# H0 : The data is normal\n",
    "# Ha : The data is not normal\n",
    "shapiro(train['price'])"
   ]
  },
  {
   "cell_type": "code",
   "execution_count": 56,
   "id": "431a3ca1",
   "metadata": {},
   "outputs": [
    {
     "data": {
      "text/plain": [
       "SignificanceResult(statistic=6632915.949139312, pvalue=0.0)"
      ]
     },
     "execution_count": 56,
     "metadata": {},
     "output_type": "execute_result"
    }
   ],
   "source": [
    "# Asssumption 1 : The \n",
    "\n",
    "# H0 : The data is normal\n",
    "# Ha : The data is not normal\n",
    "jarque_bera(train['price'])"
   ]
  },
  {
   "cell_type": "markdown",
   "id": "eb625535",
   "metadata": {},
   "source": [
    "#### The data is not normal"
   ]
  },
  {
   "cell_type": "markdown",
   "id": "0e074fbd",
   "metadata": {},
   "source": [
    "#### Significance of area_type "
   ]
  },
  {
   "cell_type": "code",
   "execution_count": 57,
   "id": "8f3c8c12",
   "metadata": {},
   "outputs": [
    {
     "name": "stdout",
     "output_type": "stream",
     "text": [
      "KruskalResult(statistic=1491.5655775623948, pvalue=0.0)\n"
     ]
    }
   ],
   "source": [
    "# We have to go with non-parametric test Krushal walls\n",
    "# H0 : area_type has no effect on price\n",
    "# Ha : area_type has effect on price\n",
    "li=[]\n",
    "for i in train['area_type'].unique():\n",
    "    s = train[train['area_type']==i]['price']\n",
    "    li.append(s)\n",
    "print(kruskal(li[0],li[1],li[2],li[3]))"
   ]
  },
  {
   "cell_type": "markdown",
   "id": "c08c58a6",
   "metadata": {},
   "source": [
    "#### Significance of balcony"
   ]
  },
  {
   "cell_type": "markdown",
   "id": "68a5c425",
   "metadata": {},
   "source": [
    "#### House price is affected by area_type "
   ]
  },
  {
   "cell_type": "code",
   "execution_count": 58,
   "id": "4366b14e",
   "metadata": {},
   "outputs": [
    {
     "name": "stdout",
     "output_type": "stream",
     "text": [
      "KruskalResult(statistic=909.2029893954316, pvalue=8.929492077104591e-197)\n"
     ]
    }
   ],
   "source": [
    "# We have to go with non-parametric test Krushal walls\n",
    "# H0 : balcony has no effect on price\n",
    "# Ha : balcony has effect on price\n",
    "li=[]\n",
    "for i in train['balcony'].unique():\n",
    "    s = train[train['balcony']==i]['price']\n",
    "    li.append(s)\n",
    "print(kruskal(li[0],li[1],li[2],li[3]))"
   ]
  },
  {
   "cell_type": "markdown",
   "id": "dfab7d71",
   "metadata": {},
   "source": [
    "#### House price is affected by balcony"
   ]
  },
  {
   "cell_type": "code",
   "execution_count": 59,
   "id": "22ed218c",
   "metadata": {},
   "outputs": [
    {
     "name": "stdout",
     "output_type": "stream",
     "text": [
      "Kruskal-Wallis test for area_type:\n",
      "   H-statistic: 1491.5655775623948\n",
      "   P-value: 0.0\n",
      "\n",
      "Kruskal-Wallis test for availability:\n",
      "   H-statistic: 411.41445085740014\n",
      "   P-value: 4.5743483446249535e-46\n",
      "\n",
      "Kruskal-Wallis test for location:\n",
      "   H-statistic: 5594.129283632322\n",
      "   P-value: 0.0\n",
      "\n",
      "Kruskal-Wallis test for size:\n",
      "   H-statistic: 6680.931337003881\n",
      "   P-value: 0.0\n",
      "\n",
      "Kruskal-Wallis test for society:\n",
      "   H-statistic: 6426.808268992063\n",
      "   P-value: 6.514657766374069e-306\n",
      "\n",
      "Kruskal-Wallis test for total_sqft:\n",
      "   H-statistic: 9035.246070615141\n",
      "   P-value: 0.0\n",
      "\n",
      "Kruskal-Wallis test for bath:\n",
      "   H-statistic: 6793.719687274006\n",
      "   P-value: 0.0\n",
      "\n",
      "Kruskal-Wallis test for balcony:\n",
      "   H-statistic: 909.2029893954316\n",
      "   P-value: 8.929492077104591e-197\n",
      "\n"
     ]
    }
   ],
   "source": [
    "# List of categorical columns to test (excluding 'price')\n",
    "categorical_columns = ['area_type', 'availability', 'location', 'size', 'society', 'total_sqft', 'bath', 'balcony']\n",
    "\n",
    "for col in categorical_columns:\n",
    "    groups = [train['price'][train[col] == category] for category in train[col].unique()]\n",
    "    \n",
    "    # Perform Kruskal-Wallis test\n",
    "    h, p_value = kruskal(*groups)\n",
    "    \n",
    "    print(f'Kruskal-Wallis test for {col}:')\n",
    "    print(f'   H-statistic: {h}')\n",
    "    print(f'   P-value: {p_value}')\n",
    "    print()\n"
   ]
  },
  {
   "cell_type": "markdown",
   "id": "c14987a4",
   "metadata": {},
   "source": [
    "#### Thus we can say all of the columns is significant."
   ]
  },
  {
   "cell_type": "markdown",
   "id": "dda2f3a7",
   "metadata": {},
   "source": [
    "### Data preprocessig"
   ]
  },
  {
   "cell_type": "code",
   "execution_count": 60,
   "id": "98054aac",
   "metadata": {},
   "outputs": [
    {
     "data": {
      "text/plain": [
       "area_type          0\n",
       "availability       0\n",
       "location           0\n",
       "size               0\n",
       "society            0\n",
       "total_sqft         0\n",
       "bath               0\n",
       "balcony            0\n",
       "price           1480\n",
       "dtype: int64"
      ]
     },
     "execution_count": 60,
     "metadata": {},
     "output_type": "execute_result"
    }
   ],
   "source": [
    "data.isnull().sum()"
   ]
  },
  {
   "cell_type": "code",
   "execution_count": 61,
   "id": "04f2f9b4",
   "metadata": {},
   "outputs": [],
   "source": [
    "# There are no null values in the data.\n",
    "# Null value in price is due to the merger of train and test data."
   ]
  },
  {
   "cell_type": "markdown",
   "id": "c23577c9",
   "metadata": {},
   "source": [
    "#### Outlier treatment"
   ]
  },
  {
   "cell_type": "code",
   "execution_count": 62,
   "id": "80d8b23e",
   "metadata": {},
   "outputs": [
    {
     "data": {
      "text/plain": [
       "<AxesSubplot:xlabel='price'>"
      ]
     },
     "execution_count": 62,
     "metadata": {},
     "output_type": "execute_result"
    },
    {
     "data": {
      "image/png": "[encoded data removed]",
      "text/plain": [
       "<Figure size 432x288 with 1 Axes>"
      ]
     },
     "metadata": {
      "needs_background": "light"
     },
     "output_type": "display_data"
    }
   ],
   "source": [
    "# Treat the outliers\n",
    "sns.boxplot(x=data['price'])"
   ]
  },
  {
   "cell_type": "markdown",
   "id": "9a420e1d",
   "metadata": {},
   "source": [
    "### Feature Engineering"
   ]
  },
  {
   "cell_type": "code",
   "execution_count": 63,
   "id": "eeb01a0a",
   "metadata": {},
   "outputs": [
    {
     "data": {
      "text/html": [
       "<div>\n",
       "<style scoped>\n",
       "    .dataframe tbody tr th:only-of-type {\n",
       "        vertical-align: middle;\n",
       "    }\n",
       "\n",
       "    .dataframe tbody tr th {\n",
       "        vertical-align: top;\n",
       "    }\n",
       "\n",
       "    .dataframe thead th {\n",
       "        text-align: right;\n",
       "    }\n",
       "</style>\n",
       "<table border=\"1\" class=\"dataframe\">\n",
       "  <thead>\n",
       "    <tr style=\"text-align: right;\">\n",
       "      <th></th>\n",
       "      <th>area_type</th>\n",
       "      <th>availability</th>\n",
       "      <th>location</th>\n",
       "      <th>size</th>\n",
       "      <th>society</th>\n",
       "      <th>total_sqft</th>\n",
       "      <th>bath</th>\n",
       "      <th>balcony</th>\n",
       "      <th>price</th>\n",
       "    </tr>\n",
       "  </thead>\n",
       "  <tbody>\n",
       "    <tr>\n",
       "      <th>0</th>\n",
       "      <td>Super built-up  Area</td>\n",
       "      <td>19-Dec</td>\n",
       "      <td>Electronic City Phase II</td>\n",
       "      <td>2 BHK</td>\n",
       "      <td>Coomee</td>\n",
       "      <td>1056</td>\n",
       "      <td>2.0</td>\n",
       "      <td>1.0</td>\n",
       "      <td>39.07</td>\n",
       "    </tr>\n",
       "    <tr>\n",
       "      <th>1</th>\n",
       "      <td>Plot  Area</td>\n",
       "      <td>Ready To Move</td>\n",
       "      <td>Chikka Tirupathi</td>\n",
       "      <td>4 Bedroom</td>\n",
       "      <td>Theanmp</td>\n",
       "      <td>2600</td>\n",
       "      <td>5.0</td>\n",
       "      <td>3.0</td>\n",
       "      <td>120.00</td>\n",
       "    </tr>\n",
       "    <tr>\n",
       "      <th>2</th>\n",
       "      <td>Built-up  Area</td>\n",
       "      <td>Ready To Move</td>\n",
       "      <td>Uttarahalli</td>\n",
       "      <td>3 BHK</td>\n",
       "      <td>0</td>\n",
       "      <td>1440</td>\n",
       "      <td>2.0</td>\n",
       "      <td>3.0</td>\n",
       "      <td>62.00</td>\n",
       "    </tr>\n",
       "    <tr>\n",
       "      <th>3</th>\n",
       "      <td>Super built-up  Area</td>\n",
       "      <td>Ready To Move</td>\n",
       "      <td>Lingadheeranahalli</td>\n",
       "      <td>3 BHK</td>\n",
       "      <td>Soiewre</td>\n",
       "      <td>1521</td>\n",
       "      <td>3.0</td>\n",
       "      <td>1.0</td>\n",
       "      <td>95.00</td>\n",
       "    </tr>\n",
       "    <tr>\n",
       "      <th>4</th>\n",
       "      <td>Super built-up  Area</td>\n",
       "      <td>Ready To Move</td>\n",
       "      <td>Kothanur</td>\n",
       "      <td>2 BHK</td>\n",
       "      <td>0</td>\n",
       "      <td>1200</td>\n",
       "      <td>2.0</td>\n",
       "      <td>1.0</td>\n",
       "      <td>51.00</td>\n",
       "    </tr>\n",
       "  </tbody>\n",
       "</table>\n",
       "</div>"
      ],
      "text/plain": [
       "              area_type   availability                  location       size  \\\n",
       "0  Super built-up  Area         19-Dec  Electronic City Phase II      2 BHK   \n",
       "1            Plot  Area  Ready To Move          Chikka Tirupathi  4 Bedroom   \n",
       "2        Built-up  Area  Ready To Move               Uttarahalli      3 BHK   \n",
       "3  Super built-up  Area  Ready To Move        Lingadheeranahalli      3 BHK   \n",
       "4  Super built-up  Area  Ready To Move                  Kothanur      2 BHK   \n",
       "\n",
       "   society total_sqft  bath  balcony   price  \n",
       "0  Coomee        1056   2.0      1.0   39.07  \n",
       "1  Theanmp       2600   5.0      3.0  120.00  \n",
       "2        0       1440   2.0      3.0   62.00  \n",
       "3  Soiewre       1521   3.0      1.0   95.00  \n",
       "4        0       1200   2.0      1.0   51.00  "
      ]
     },
     "execution_count": 63,
     "metadata": {},
     "output_type": "execute_result"
    }
   ],
   "source": [
    "data.head()"
   ]
  },
  {
   "cell_type": "code",
   "execution_count": 64,
   "id": "c9cc8f49",
   "metadata": {},
   "outputs": [
    {
     "data": {
      "text/plain": [
       "area_type          4\n",
       "availability      82\n",
       "location        1358\n",
       "size              32\n",
       "society         2833\n",
       "total_sqft      2221\n",
       "bath              19\n",
       "balcony            4\n",
       "price           1994\n",
       "dtype: int64"
      ]
     },
     "execution_count": 64,
     "metadata": {},
     "output_type": "execute_result"
    }
   ],
   "source": [
    "data.nunique()"
   ]
  },
  {
   "cell_type": "code",
   "execution_count": 65,
   "id": "e9ed05f6",
   "metadata": {},
   "outputs": [
    {
     "data": {
      "text/plain": [
       "area_type        object\n",
       "availability     object\n",
       "location         object\n",
       "size             object\n",
       "society          object\n",
       "total_sqft       object\n",
       "bath            float64\n",
       "balcony         float64\n",
       "price           float64\n",
       "dtype: object"
      ]
     },
     "execution_count": 65,
     "metadata": {},
     "output_type": "execute_result"
    }
   ],
   "source": [
    "data.dtypes"
   ]
  },
  {
   "cell_type": "markdown",
   "id": "fbf0bf3b",
   "metadata": {},
   "source": [
    "#### Encoding area_type"
   ]
  },
  {
   "cell_type": "code",
   "execution_count": 66,
   "id": "567771b6",
   "metadata": {},
   "outputs": [
    {
     "data": {
      "text/plain": [
       "Super built-up  Area    9736\n",
       "Built-up  Area          2688\n",
       "Plot  Area              2279\n",
       "Carpet  Area              97\n",
       "Name: area_type, dtype: int64"
      ]
     },
     "execution_count": 66,
     "metadata": {},
     "output_type": "execute_result"
    }
   ],
   "source": [
    "data['area_type'].value_counts()"
   ]
  },
  {
   "cell_type": "code",
   "execution_count": 67,
   "id": "29736e1f",
   "metadata": {},
   "outputs": [],
   "source": [
    "from sklearn.preprocessing import LabelEncoder"
   ]
  },
  {
   "cell_type": "code",
   "execution_count": 68,
   "id": "c8191132",
   "metadata": {},
   "outputs": [],
   "source": [
    "le=LabelEncoder()"
   ]
  },
  {
   "cell_type": "code",
   "execution_count": 69,
   "id": "fabfd8a4",
   "metadata": {},
   "outputs": [],
   "source": [
    "data['area_type'] = le.fit_transform(data['area_type'])"
   ]
  },
  {
   "cell_type": "code",
   "execution_count": 70,
   "id": "ba12a6eb",
   "metadata": {},
   "outputs": [
    {
     "data": {
      "text/plain": [
       "3    9736\n",
       "0    2688\n",
       "2    2279\n",
       "1      97\n",
       "Name: area_type, dtype: int64"
      ]
     },
     "execution_count": 70,
     "metadata": {},
     "output_type": "execute_result"
    }
   ],
   "source": [
    "data['area_type'].value_counts()"
   ]
  },
  {
   "cell_type": "markdown",
   "id": "7cb0f6b3",
   "metadata": {},
   "source": [
    "- 3=super builtup area\n",
    "- 0=built up area\n",
    "- 2=plot area\n",
    "- 1=carpet area"
   ]
  },
  {
   "cell_type": "markdown",
   "id": "7c1f77ba",
   "metadata": {},
   "source": [
    "#### Encoding availability"
   ]
  },
  {
   "cell_type": "code",
   "execution_count": 71,
   "id": "eae7b66b",
   "metadata": {},
   "outputs": [
    {
     "data": {
      "text/plain": [
       "Ready To Move    11743\n",
       "18-Dec             351\n",
       "18-May             324\n",
       "18-Apr             296\n",
       "18-Aug             225\n",
       "                 ...  \n",
       "15-Aug               1\n",
       "16-Nov               1\n",
       "16-Jan               1\n",
       "14-Jul               1\n",
       "16-Apr               1\n",
       "Name: availability, Length: 82, dtype: int64"
      ]
     },
     "execution_count": 71,
     "metadata": {},
     "output_type": "execute_result"
    }
   ],
   "source": [
    "data['availability'].value_counts()"
   ]
  },
  {
   "cell_type": "code",
   "execution_count": 72,
   "id": "52b82cf1",
   "metadata": {},
   "outputs": [],
   "source": [
    "data['availability']=np.where(data['availability']=='Ready To Move','0-0',data['availability'])"
   ]
  },
  {
   "cell_type": "code",
   "execution_count": 73,
   "id": "d3d312f8",
   "metadata": {},
   "outputs": [],
   "source": [
    "data[['date','month']] = data['availability'].str.split('-',expand=True)"
   ]
  },
  {
   "cell_type": "code",
   "execution_count": 74,
   "id": "ef41366b",
   "metadata": {},
   "outputs": [
    {
     "data": {
      "text/html": [
       "<div>\n",
       "<style scoped>\n",
       "    .dataframe tbody tr th:only-of-type {\n",
       "        vertical-align: middle;\n",
       "    }\n",
       "\n",
       "    .dataframe tbody tr th {\n",
       "        vertical-align: top;\n",
       "    }\n",
       "\n",
       "    .dataframe thead th {\n",
       "        text-align: right;\n",
       "    }\n",
       "</style>\n",
       "<table border=\"1\" class=\"dataframe\">\n",
       "  <thead>\n",
       "    <tr style=\"text-align: right;\">\n",
       "      <th></th>\n",
       "      <th>area_type</th>\n",
       "      <th>availability</th>\n",
       "      <th>location</th>\n",
       "      <th>size</th>\n",
       "      <th>society</th>\n",
       "      <th>total_sqft</th>\n",
       "      <th>bath</th>\n",
       "      <th>balcony</th>\n",
       "      <th>price</th>\n",
       "      <th>date</th>\n",
       "      <th>month</th>\n",
       "    </tr>\n",
       "  </thead>\n",
       "  <tbody>\n",
       "    <tr>\n",
       "      <th>0</th>\n",
       "      <td>3</td>\n",
       "      <td>19-Dec</td>\n",
       "      <td>Electronic City Phase II</td>\n",
       "      <td>2 BHK</td>\n",
       "      <td>Coomee</td>\n",
       "      <td>1056</td>\n",
       "      <td>2.0</td>\n",
       "      <td>1.0</td>\n",
       "      <td>39.07</td>\n",
       "      <td>19</td>\n",
       "      <td>Dec</td>\n",
       "    </tr>\n",
       "    <tr>\n",
       "      <th>1</th>\n",
       "      <td>2</td>\n",
       "      <td>0-0</td>\n",
       "      <td>Chikka Tirupathi</td>\n",
       "      <td>4 Bedroom</td>\n",
       "      <td>Theanmp</td>\n",
       "      <td>2600</td>\n",
       "      <td>5.0</td>\n",
       "      <td>3.0</td>\n",
       "      <td>120.00</td>\n",
       "      <td>0</td>\n",
       "      <td>0</td>\n",
       "    </tr>\n",
       "  </tbody>\n",
       "</table>\n",
       "</div>"
      ],
      "text/plain": [
       "   area_type availability                  location       size  society  \\\n",
       "0          3       19-Dec  Electronic City Phase II      2 BHK  Coomee    \n",
       "1          2          0-0          Chikka Tirupathi  4 Bedroom  Theanmp   \n",
       "\n",
       "  total_sqft  bath  balcony   price date month  \n",
       "0       1056   2.0      1.0   39.07   19   Dec  \n",
       "1       2600   5.0      3.0  120.00    0     0  "
      ]
     },
     "execution_count": 74,
     "metadata": {},
     "output_type": "execute_result"
    }
   ],
   "source": [
    "data.head(2)"
   ]
  },
  {
   "cell_type": "code",
   "execution_count": 75,
   "id": "26d0462a",
   "metadata": {},
   "outputs": [],
   "source": [
    "data.drop(columns='availability',inplace=True)"
   ]
  },
  {
   "cell_type": "code",
   "execution_count": 76,
   "id": "e5593289",
   "metadata": {},
   "outputs": [
    {
     "data": {
      "text/plain": [
       "0      11743\n",
       "Dec      831\n",
       "May      374\n",
       "Apr      325\n",
       "Aug      277\n",
       "Mar      270\n",
       "Jul      229\n",
       "Jun      217\n",
       "Jan      143\n",
       "Oct      101\n",
       "Sep       94\n",
       "Nov       93\n",
       "Feb       85\n",
       "Name: month, dtype: int64"
      ]
     },
     "execution_count": 76,
     "metadata": {},
     "output_type": "execute_result"
    }
   ],
   "source": [
    "data['month'].value_counts()"
   ]
  },
  {
   "cell_type": "code",
   "execution_count": 77,
   "id": "3469525a",
   "metadata": {},
   "outputs": [],
   "source": [
    "from sklearn.preprocessing import OrdinalEncoder"
   ]
  },
  {
   "cell_type": "code",
   "execution_count": 78,
   "id": "8805db4b",
   "metadata": {},
   "outputs": [],
   "source": [
    "oe = OrdinalEncoder(categories=[['0','Jan','Feb','Mar','Apr','May','Jun','Jul','Aug','Sep','Oct','Nov','Dec']])"
   ]
  },
  {
   "cell_type": "code",
   "execution_count": 79,
   "id": "28fef0ab",
   "metadata": {},
   "outputs": [
    {
     "data": {
      "text/plain": [
       "18"
      ]
     },
     "execution_count": 79,
     "metadata": {},
     "output_type": "execute_result"
    }
   ],
   "source": [
    "data['month'].isnull().sum()"
   ]
  },
  {
   "cell_type": "code",
   "execution_count": 80,
   "id": "28916dbc",
   "metadata": {},
   "outputs": [],
   "source": [
    "data['month'] = np.where(data['month'].isnull(),data['month'].mode(),data['month'])"
   ]
  },
  {
   "cell_type": "code",
   "execution_count": 81,
   "id": "e4694b9d",
   "metadata": {},
   "outputs": [],
   "source": [
    "data['month'] = oe.fit_transform(data[['month']])"
   ]
  },
  {
   "cell_type": "code",
   "execution_count": 82,
   "id": "09f6c676",
   "metadata": {},
   "outputs": [
    {
     "data": {
      "text/html": [
       "<div>\n",
       "<style scoped>\n",
       "    .dataframe tbody tr th:only-of-type {\n",
       "        vertical-align: middle;\n",
       "    }\n",
       "\n",
       "    .dataframe tbody tr th {\n",
       "        vertical-align: top;\n",
       "    }\n",
       "\n",
       "    .dataframe thead th {\n",
       "        text-align: right;\n",
       "    }\n",
       "</style>\n",
       "<table border=\"1\" class=\"dataframe\">\n",
       "  <thead>\n",
       "    <tr style=\"text-align: right;\">\n",
       "      <th></th>\n",
       "      <th>area_type</th>\n",
       "      <th>location</th>\n",
       "      <th>size</th>\n",
       "      <th>society</th>\n",
       "      <th>total_sqft</th>\n",
       "      <th>bath</th>\n",
       "      <th>balcony</th>\n",
       "      <th>price</th>\n",
       "      <th>date</th>\n",
       "      <th>month</th>\n",
       "    </tr>\n",
       "  </thead>\n",
       "  <tbody>\n",
       "    <tr>\n",
       "      <th>0</th>\n",
       "      <td>3</td>\n",
       "      <td>Electronic City Phase II</td>\n",
       "      <td>2 BHK</td>\n",
       "      <td>Coomee</td>\n",
       "      <td>1056</td>\n",
       "      <td>2.0</td>\n",
       "      <td>1.0</td>\n",
       "      <td>39.07</td>\n",
       "      <td>19</td>\n",
       "      <td>12.0</td>\n",
       "    </tr>\n",
       "    <tr>\n",
       "      <th>1</th>\n",
       "      <td>2</td>\n",
       "      <td>Chikka Tirupathi</td>\n",
       "      <td>4 Bedroom</td>\n",
       "      <td>Theanmp</td>\n",
       "      <td>2600</td>\n",
       "      <td>5.0</td>\n",
       "      <td>3.0</td>\n",
       "      <td>120.00</td>\n",
       "      <td>0</td>\n",
       "      <td>0.0</td>\n",
       "    </tr>\n",
       "    <tr>\n",
       "      <th>2</th>\n",
       "      <td>0</td>\n",
       "      <td>Uttarahalli</td>\n",
       "      <td>3 BHK</td>\n",
       "      <td>0</td>\n",
       "      <td>1440</td>\n",
       "      <td>2.0</td>\n",
       "      <td>3.0</td>\n",
       "      <td>62.00</td>\n",
       "      <td>0</td>\n",
       "      <td>0.0</td>\n",
       "    </tr>\n",
       "    <tr>\n",
       "      <th>3</th>\n",
       "      <td>3</td>\n",
       "      <td>Lingadheeranahalli</td>\n",
       "      <td>3 BHK</td>\n",
       "      <td>Soiewre</td>\n",
       "      <td>1521</td>\n",
       "      <td>3.0</td>\n",
       "      <td>1.0</td>\n",
       "      <td>95.00</td>\n",
       "      <td>0</td>\n",
       "      <td>0.0</td>\n",
       "    </tr>\n",
       "    <tr>\n",
       "      <th>4</th>\n",
       "      <td>3</td>\n",
       "      <td>Kothanur</td>\n",
       "      <td>2 BHK</td>\n",
       "      <td>0</td>\n",
       "      <td>1200</td>\n",
       "      <td>2.0</td>\n",
       "      <td>1.0</td>\n",
       "      <td>51.00</td>\n",
       "      <td>0</td>\n",
       "      <td>0.0</td>\n",
       "    </tr>\n",
       "  </tbody>\n",
       "</table>\n",
       "</div>"
      ],
      "text/plain": [
       "   area_type                  location       size  society total_sqft  bath  \\\n",
       "0          3  Electronic City Phase II      2 BHK  Coomee        1056   2.0   \n",
       "1          2          Chikka Tirupathi  4 Bedroom  Theanmp       2600   5.0   \n",
       "2          0               Uttarahalli      3 BHK        0       1440   2.0   \n",
       "3          3        Lingadheeranahalli      3 BHK  Soiewre       1521   3.0   \n",
       "4          3                  Kothanur      2 BHK        0       1200   2.0   \n",
       "\n",
       "   balcony   price date  month  \n",
       "0      1.0   39.07   19   12.0  \n",
       "1      3.0  120.00    0    0.0  \n",
       "2      3.0   62.00    0    0.0  \n",
       "3      1.0   95.00    0    0.0  \n",
       "4      1.0   51.00    0    0.0  "
      ]
     },
     "execution_count": 82,
     "metadata": {},
     "output_type": "execute_result"
    }
   ],
   "source": [
    "data.head()"
   ]
  },
  {
   "cell_type": "markdown",
   "id": "35b7d280",
   "metadata": {},
   "source": [
    "#### Encoding location"
   ]
  },
  {
   "cell_type": "code",
   "execution_count": 83,
   "id": "9b7ef3e2",
   "metadata": {},
   "outputs": [],
   "source": [
    "data['location'] =le.fit_transform(data['location'])"
   ]
  },
  {
   "cell_type": "code",
   "execution_count": 84,
   "id": "5a455987",
   "metadata": {},
   "outputs": [
    {
     "data": {
      "text/html": [
       "<div>\n",
       "<style scoped>\n",
       "    .dataframe tbody tr th:only-of-type {\n",
       "        vertical-align: middle;\n",
       "    }\n",
       "\n",
       "    .dataframe tbody tr th {\n",
       "        vertical-align: top;\n",
       "    }\n",
       "\n",
       "    .dataframe thead th {\n",
       "        text-align: right;\n",
       "    }\n",
       "</style>\n",
       "<table border=\"1\" class=\"dataframe\">\n",
       "  <thead>\n",
       "    <tr style=\"text-align: right;\">\n",
       "      <th></th>\n",
       "      <th>area_type</th>\n",
       "      <th>location</th>\n",
       "      <th>size</th>\n",
       "      <th>society</th>\n",
       "      <th>total_sqft</th>\n",
       "      <th>bath</th>\n",
       "      <th>balcony</th>\n",
       "      <th>price</th>\n",
       "      <th>date</th>\n",
       "      <th>month</th>\n",
       "    </tr>\n",
       "  </thead>\n",
       "  <tbody>\n",
       "    <tr>\n",
       "      <th>0</th>\n",
       "      <td>3</td>\n",
       "      <td>430</td>\n",
       "      <td>2 BHK</td>\n",
       "      <td>Coomee</td>\n",
       "      <td>1056</td>\n",
       "      <td>2.0</td>\n",
       "      <td>1.0</td>\n",
       "      <td>39.07</td>\n",
       "      <td>19</td>\n",
       "      <td>12.0</td>\n",
       "    </tr>\n",
       "    <tr>\n",
       "      <th>1</th>\n",
       "      <td>2</td>\n",
       "      <td>325</td>\n",
       "      <td>4 Bedroom</td>\n",
       "      <td>Theanmp</td>\n",
       "      <td>2600</td>\n",
       "      <td>5.0</td>\n",
       "      <td>3.0</td>\n",
       "      <td>120.00</td>\n",
       "      <td>0</td>\n",
       "      <td>0.0</td>\n",
       "    </tr>\n",
       "  </tbody>\n",
       "</table>\n",
       "</div>"
      ],
      "text/plain": [
       "   area_type  location       size  society total_sqft  bath  balcony   price  \\\n",
       "0          3       430      2 BHK  Coomee        1056   2.0      1.0   39.07   \n",
       "1          2       325  4 Bedroom  Theanmp       2600   5.0      3.0  120.00   \n",
       "\n",
       "  date  month  \n",
       "0   19   12.0  \n",
       "1    0    0.0  "
      ]
     },
     "execution_count": 84,
     "metadata": {},
     "output_type": "execute_result"
    }
   ],
   "source": [
    "data.head(2)"
   ]
  },
  {
   "cell_type": "markdown",
   "id": "897df008",
   "metadata": {},
   "source": [
    "#### Encoding size"
   ]
  },
  {
   "cell_type": "code",
   "execution_count": 85,
   "id": "fb5d3c75",
   "metadata": {},
   "outputs": [
    {
     "data": {
      "text/plain": [
       "2 BHK         5757\n",
       "3 BHK         4788\n",
       "4 Bedroom      918\n",
       "4 BHK          673\n",
       "3 Bedroom      613\n",
       "1 BHK          592\n",
       "2 Bedroom      368\n",
       "5 Bedroom      338\n",
       "6 Bedroom      208\n",
       "1 Bedroom      122\n",
       "7 Bedroom       95\n",
       "8 Bedroom       94\n",
       "5 BHK           61\n",
       "9 Bedroom       54\n",
       "6 BHK           35\n",
       "7 BHK           18\n",
       "1 RK            15\n",
       "10 Bedroom      15\n",
       "9 BHK           13\n",
       "8 BHK            8\n",
       "10 BHK           2\n",
       "11 BHK           2\n",
       "11 Bedroom       2\n",
       "19 BHK           1\n",
       "16 BHK           1\n",
       "43 Bedroom       1\n",
       "14 BHK           1\n",
       "27 BHK           1\n",
       "12 Bedroom       1\n",
       "13 BHK           1\n",
       "18 Bedroom       1\n",
       "16 Bedroom       1\n",
       "Name: size, dtype: int64"
      ]
     },
     "execution_count": 85,
     "metadata": {},
     "output_type": "execute_result"
    }
   ],
   "source": [
    "data['size'].value_counts()"
   ]
  },
  {
   "cell_type": "code",
   "execution_count": 86,
   "id": "9a0df0d3",
   "metadata": {},
   "outputs": [],
   "source": [
    "data['size'] = np.where(data['size']=='1 RK','0 bhk',data['size'])"
   ]
  },
  {
   "cell_type": "code",
   "execution_count": 87,
   "id": "e73a03dd",
   "metadata": {},
   "outputs": [],
   "source": [
    "data[['size','bhk']] = data['size'].str.split(' ',expand=True)"
   ]
  },
  {
   "cell_type": "code",
   "execution_count": 88,
   "id": "8f74c47b",
   "metadata": {},
   "outputs": [
    {
     "data": {
      "text/html": [
       "<div>\n",
       "<style scoped>\n",
       "    .dataframe tbody tr th:only-of-type {\n",
       "        vertical-align: middle;\n",
       "    }\n",
       "\n",
       "    .dataframe tbody tr th {\n",
       "        vertical-align: top;\n",
       "    }\n",
       "\n",
       "    .dataframe thead th {\n",
       "        text-align: right;\n",
       "    }\n",
       "</style>\n",
       "<table border=\"1\" class=\"dataframe\">\n",
       "  <thead>\n",
       "    <tr style=\"text-align: right;\">\n",
       "      <th></th>\n",
       "      <th>area_type</th>\n",
       "      <th>location</th>\n",
       "      <th>size</th>\n",
       "      <th>society</th>\n",
       "      <th>total_sqft</th>\n",
       "      <th>bath</th>\n",
       "      <th>balcony</th>\n",
       "      <th>price</th>\n",
       "      <th>date</th>\n",
       "      <th>month</th>\n",
       "      <th>bhk</th>\n",
       "    </tr>\n",
       "  </thead>\n",
       "  <tbody>\n",
       "    <tr>\n",
       "      <th>0</th>\n",
       "      <td>3</td>\n",
       "      <td>430</td>\n",
       "      <td>2</td>\n",
       "      <td>Coomee</td>\n",
       "      <td>1056</td>\n",
       "      <td>2.0</td>\n",
       "      <td>1.0</td>\n",
       "      <td>39.07</td>\n",
       "      <td>19</td>\n",
       "      <td>12.0</td>\n",
       "      <td>BHK</td>\n",
       "    </tr>\n",
       "    <tr>\n",
       "      <th>1</th>\n",
       "      <td>2</td>\n",
       "      <td>325</td>\n",
       "      <td>4</td>\n",
       "      <td>Theanmp</td>\n",
       "      <td>2600</td>\n",
       "      <td>5.0</td>\n",
       "      <td>3.0</td>\n",
       "      <td>120.00</td>\n",
       "      <td>0</td>\n",
       "      <td>0.0</td>\n",
       "      <td>Bedroom</td>\n",
       "    </tr>\n",
       "  </tbody>\n",
       "</table>\n",
       "</div>"
      ],
      "text/plain": [
       "   area_type  location size  society total_sqft  bath  balcony   price date  \\\n",
       "0          3       430    2  Coomee        1056   2.0      1.0   39.07   19   \n",
       "1          2       325    4  Theanmp       2600   5.0      3.0  120.00    0   \n",
       "\n",
       "   month      bhk  \n",
       "0   12.0      BHK  \n",
       "1    0.0  Bedroom  "
      ]
     },
     "execution_count": 88,
     "metadata": {},
     "output_type": "execute_result"
    }
   ],
   "source": [
    "data.head(2)"
   ]
  },
  {
   "cell_type": "code",
   "execution_count": 89,
   "id": "c2b271c2",
   "metadata": {},
   "outputs": [],
   "source": [
    "data.drop(columns='bhk',inplace=True)"
   ]
  },
  {
   "cell_type": "code",
   "execution_count": 90,
   "id": "101c819a",
   "metadata": {},
   "outputs": [
    {
     "data": {
      "text/html": [
       "<div>\n",
       "<style scoped>\n",
       "    .dataframe tbody tr th:only-of-type {\n",
       "        vertical-align: middle;\n",
       "    }\n",
       "\n",
       "    .dataframe tbody tr th {\n",
       "        vertical-align: top;\n",
       "    }\n",
       "\n",
       "    .dataframe thead th {\n",
       "        text-align: right;\n",
       "    }\n",
       "</style>\n",
       "<table border=\"1\" class=\"dataframe\">\n",
       "  <thead>\n",
       "    <tr style=\"text-align: right;\">\n",
       "      <th></th>\n",
       "      <th>area_type</th>\n",
       "      <th>location</th>\n",
       "      <th>size</th>\n",
       "      <th>society</th>\n",
       "      <th>total_sqft</th>\n",
       "      <th>bath</th>\n",
       "      <th>balcony</th>\n",
       "      <th>price</th>\n",
       "      <th>date</th>\n",
       "      <th>month</th>\n",
       "    </tr>\n",
       "  </thead>\n",
       "  <tbody>\n",
       "    <tr>\n",
       "      <th>0</th>\n",
       "      <td>3</td>\n",
       "      <td>430</td>\n",
       "      <td>2</td>\n",
       "      <td>Coomee</td>\n",
       "      <td>1056</td>\n",
       "      <td>2.0</td>\n",
       "      <td>1.0</td>\n",
       "      <td>39.07</td>\n",
       "      <td>19</td>\n",
       "      <td>12.0</td>\n",
       "    </tr>\n",
       "    <tr>\n",
       "      <th>1</th>\n",
       "      <td>2</td>\n",
       "      <td>325</td>\n",
       "      <td>4</td>\n",
       "      <td>Theanmp</td>\n",
       "      <td>2600</td>\n",
       "      <td>5.0</td>\n",
       "      <td>3.0</td>\n",
       "      <td>120.00</td>\n",
       "      <td>0</td>\n",
       "      <td>0.0</td>\n",
       "    </tr>\n",
       "  </tbody>\n",
       "</table>\n",
       "</div>"
      ],
      "text/plain": [
       "   area_type  location size  society total_sqft  bath  balcony   price date  \\\n",
       "0          3       430    2  Coomee        1056   2.0      1.0   39.07   19   \n",
       "1          2       325    4  Theanmp       2600   5.0      3.0  120.00    0   \n",
       "\n",
       "   month  \n",
       "0   12.0  \n",
       "1    0.0  "
      ]
     },
     "execution_count": 90,
     "metadata": {},
     "output_type": "execute_result"
    }
   ],
   "source": [
    "data.head(2)"
   ]
  },
  {
   "cell_type": "markdown",
   "id": "31e14b7d",
   "metadata": {},
   "source": [
    "#### Encoding Society"
   ]
  },
  {
   "cell_type": "code",
   "execution_count": 91,
   "id": "1a7c93f7",
   "metadata": {},
   "outputs": [
    {
     "data": {
      "text/plain": [
       "0          0.414054\n",
       "GrrvaGr    0.420270\n",
       "PrarePa    0.425541\n",
       "Prtates    0.429865\n",
       "Sryalan    0.434122\n",
       "             ...   \n",
       "Goezell    0.999730\n",
       "Hanar I    0.999797\n",
       "Prclee     0.999865\n",
       "Alows M    0.999932\n",
       "MaicaRS    1.000000\n",
       "Name: society, Length: 2833, dtype: float64"
      ]
     },
     "execution_count": 91,
     "metadata": {},
     "output_type": "execute_result"
    }
   ],
   "source": [
    "np.cumsum(data['society'].value_counts(normalize=True))\n"
   ]
  },
  {
   "cell_type": "code",
   "execution_count": 92,
   "id": "0fb47ad3",
   "metadata": {},
   "outputs": [],
   "source": [
    "data['society'] = le.fit_transform(data['society'])"
   ]
  },
  {
   "cell_type": "code",
   "execution_count": 93,
   "id": "c3e771f6",
   "metadata": {},
   "outputs": [
    {
     "data": {
      "text/html": [
       "<div>\n",
       "<style scoped>\n",
       "    .dataframe tbody tr th:only-of-type {\n",
       "        vertical-align: middle;\n",
       "    }\n",
       "\n",
       "    .dataframe tbody tr th {\n",
       "        vertical-align: top;\n",
       "    }\n",
       "\n",
       "    .dataframe thead th {\n",
       "        text-align: right;\n",
       "    }\n",
       "</style>\n",
       "<table border=\"1\" class=\"dataframe\">\n",
       "  <thead>\n",
       "    <tr style=\"text-align: right;\">\n",
       "      <th></th>\n",
       "      <th>area_type</th>\n",
       "      <th>location</th>\n",
       "      <th>size</th>\n",
       "      <th>society</th>\n",
       "      <th>total_sqft</th>\n",
       "      <th>bath</th>\n",
       "      <th>balcony</th>\n",
       "      <th>price</th>\n",
       "      <th>date</th>\n",
       "      <th>month</th>\n",
       "    </tr>\n",
       "  </thead>\n",
       "  <tbody>\n",
       "    <tr>\n",
       "      <th>0</th>\n",
       "      <td>3</td>\n",
       "      <td>430</td>\n",
       "      <td>2</td>\n",
       "      <td>488</td>\n",
       "      <td>1056</td>\n",
       "      <td>2.0</td>\n",
       "      <td>1.0</td>\n",
       "      <td>39.07</td>\n",
       "      <td>19</td>\n",
       "      <td>12.0</td>\n",
       "    </tr>\n",
       "    <tr>\n",
       "      <th>1</th>\n",
       "      <td>2</td>\n",
       "      <td>325</td>\n",
       "      <td>4</td>\n",
       "      <td>2569</td>\n",
       "      <td>2600</td>\n",
       "      <td>5.0</td>\n",
       "      <td>3.0</td>\n",
       "      <td>120.00</td>\n",
       "      <td>0</td>\n",
       "      <td>0.0</td>\n",
       "    </tr>\n",
       "  </tbody>\n",
       "</table>\n",
       "</div>"
      ],
      "text/plain": [
       "   area_type  location size  society total_sqft  bath  balcony   price date  \\\n",
       "0          3       430    2      488       1056   2.0      1.0   39.07   19   \n",
       "1          2       325    4     2569       2600   5.0      3.0  120.00    0   \n",
       "\n",
       "   month  \n",
       "0   12.0  \n",
       "1    0.0  "
      ]
     },
     "execution_count": 93,
     "metadata": {},
     "output_type": "execute_result"
    }
   ],
   "source": [
    "data.head(2)"
   ]
  },
  {
   "cell_type": "markdown",
   "id": "957bda32",
   "metadata": {},
   "source": [
    "####  total_sqft"
   ]
  },
  {
   "cell_type": "code",
   "execution_count": 94,
   "id": "0b2d2577",
   "metadata": {},
   "outputs": [],
   "source": [
    "data['total_sqft'] = data['total_sqft'].apply(lambda x: (float(x.split('-')[0]) + float(x.split('-')[1])) / 2\n",
    "if '-' in x else x)"
   ]
  },
  {
   "cell_type": "code",
   "execution_count": 95,
   "id": "6b23a28a",
   "metadata": {},
   "outputs": [
    {
     "data": {
      "text/plain": [
       "(14800, 10)"
      ]
     },
     "execution_count": 95,
     "metadata": {},
     "output_type": "execute_result"
    }
   ],
   "source": [
    "data.shape"
   ]
  },
  {
   "cell_type": "code",
   "execution_count": 96,
   "id": "d1fad741",
   "metadata": {},
   "outputs": [
    {
     "data": {
      "text/html": [
       "<div>\n",
       "<style scoped>\n",
       "    .dataframe tbody tr th:only-of-type {\n",
       "        vertical-align: middle;\n",
       "    }\n",
       "\n",
       "    .dataframe tbody tr th {\n",
       "        vertical-align: top;\n",
       "    }\n",
       "\n",
       "    .dataframe thead th {\n",
       "        text-align: right;\n",
       "    }\n",
       "</style>\n",
       "<table border=\"1\" class=\"dataframe\">\n",
       "  <thead>\n",
       "    <tr style=\"text-align: right;\">\n",
       "      <th></th>\n",
       "      <th>area_type</th>\n",
       "      <th>availability</th>\n",
       "      <th>location</th>\n",
       "      <th>size</th>\n",
       "      <th>society</th>\n",
       "      <th>total_sqft</th>\n",
       "      <th>bath</th>\n",
       "      <th>balcony</th>\n",
       "      <th>price</th>\n",
       "    </tr>\n",
       "  </thead>\n",
       "  <tbody>\n",
       "    <tr>\n",
       "      <th>325</th>\n",
       "      <td>Built-up  Area</td>\n",
       "      <td>18-Apr</td>\n",
       "      <td>Doddaballapur</td>\n",
       "      <td>1 Bedroom</td>\n",
       "      <td>0</td>\n",
       "      <td>5Acres</td>\n",
       "      <td>1.0</td>\n",
       "      <td>0.0</td>\n",
       "      <td>NaN</td>\n",
       "    </tr>\n",
       "    <tr>\n",
       "      <th>874</th>\n",
       "      <td>Built-up  Area</td>\n",
       "      <td>Ready To Move</td>\n",
       "      <td>Bisuvanahalli</td>\n",
       "      <td>3 BHK</td>\n",
       "      <td>Prityel</td>\n",
       "      <td>100Sq. Meter</td>\n",
       "      <td>3.0</td>\n",
       "      <td>1.0</td>\n",
       "      <td>NaN</td>\n",
       "    </tr>\n",
       "  </tbody>\n",
       "</table>\n",
       "</div>"
      ],
      "text/plain": [
       "          area_type   availability       location       size  society  \\\n",
       "325  Built-up  Area         18-Apr  Doddaballapur  1 Bedroom        0   \n",
       "874  Built-up  Area  Ready To Move  Bisuvanahalli      3 BHK  Prityel   \n",
       "\n",
       "       total_sqft  bath  balcony  price  \n",
       "325        5Acres   1.0      0.0    NaN  \n",
       "874  100Sq. Meter   3.0      1.0    NaN  "
      ]
     },
     "execution_count": 96,
     "metadata": {},
     "output_type": "execute_result"
    }
   ],
   "source": [
    "test[test['total_sqft'].str.contains('[a-z]')==True]"
   ]
  },
  {
   "cell_type": "code",
   "execution_count": 97,
   "id": "bec5c706",
   "metadata": {},
   "outputs": [],
   "source": [
    "data['total_sqft']=np.where(data['total_sqft']=='5Acres',217800,data['total_sqft'])"
   ]
  },
  {
   "cell_type": "code",
   "execution_count": 98,
   "id": "65541eaf",
   "metadata": {},
   "outputs": [],
   "source": [
    "data['total_sqft']=np.where(data['total_sqft']=='100Sq. Meter',1076.391,data['total_sqft'])"
   ]
  },
  {
   "cell_type": "code",
   "execution_count": 99,
   "id": "fc6a2d49",
   "metadata": {},
   "outputs": [],
   "source": [
    "x=data[(data['total_sqft'].str.contains('[a-z]')==True)]['total_sqft'].index"
   ]
  },
  {
   "cell_type": "code",
   "execution_count": 100,
   "id": "53dca623",
   "metadata": {},
   "outputs": [],
   "source": [
    "data.reset_index(drop=True,inplace=True)"
   ]
  },
  {
   "cell_type": "code",
   "execution_count": 101,
   "id": "95ecd39c",
   "metadata": {},
   "outputs": [],
   "source": [
    "sqx = [i for i in x ]"
   ]
  },
  {
   "cell_type": "code",
   "execution_count": 102,
   "id": "52afecd2",
   "metadata": {},
   "outputs": [],
   "source": [
    "data.drop(index=sqx,inplace=True,axis=0)"
   ]
  },
  {
   "cell_type": "code",
   "execution_count": 103,
   "id": "3a10dc0c",
   "metadata": {},
   "outputs": [
    {
     "data": {
      "text/plain": [
       "1480"
      ]
     },
     "execution_count": 103,
     "metadata": {},
     "output_type": "execute_result"
    }
   ],
   "source": [
    "data['price'].isnull().sum()"
   ]
  },
  {
   "cell_type": "code",
   "execution_count": 104,
   "id": "0438d68b",
   "metadata": {},
   "outputs": [
    {
     "data": {
      "text/plain": [
       "(14754, 10)"
      ]
     },
     "execution_count": 104,
     "metadata": {},
     "output_type": "execute_result"
    }
   ],
   "source": [
    "data.shape"
   ]
  },
  {
   "cell_type": "code",
   "execution_count": 105,
   "id": "e5be2905",
   "metadata": {},
   "outputs": [],
   "source": [
    "# Let's convert datatype of size from object to integer\n",
    "data['size']=data['size'].astype('int') "
   ]
  },
  {
   "cell_type": "code",
   "execution_count": 106,
   "id": "1bb41b86",
   "metadata": {},
   "outputs": [],
   "source": [
    "# Let's convert datatype of size from object to integer\n",
    "data['total_sqft']=data['total_sqft'].astype('float') "
   ]
  },
  {
   "cell_type": "code",
   "execution_count": 107,
   "id": "ee0cc1ed",
   "metadata": {},
   "outputs": [],
   "source": [
    "data['date']=np.where(data['date']=='Immediate Possession',0,data['date'])"
   ]
  },
  {
   "cell_type": "code",
   "execution_count": 108,
   "id": "a1f1f613",
   "metadata": {},
   "outputs": [],
   "source": [
    "# Let's convert datatype of size from object to integer\n",
    "data['date']=data['date'].astype('int') "
   ]
  },
  {
   "cell_type": "code",
   "execution_count": 109,
   "id": "0ea18a67",
   "metadata": {},
   "outputs": [],
   "source": [
    "from sklearn.preprocessing import RobustScaler"
   ]
  },
  {
   "cell_type": "code",
   "execution_count": 110,
   "id": "c1be7c64",
   "metadata": {},
   "outputs": [],
   "source": [
    "rs = RobustScaler()"
   ]
  },
  {
   "cell_type": "markdown",
   "id": "bbda7286",
   "metadata": {},
   "source": [
    "### MODEL BUILDING"
   ]
  },
  {
   "cell_type": "code",
   "execution_count": 111,
   "id": "c9dcbe57",
   "metadata": {},
   "outputs": [],
   "source": [
    "# IMPORT LIBRARIES\n",
    "from sklearn.linear_model import LinearRegression,Ridge,Lasso,ElasticNet,SGDRegressor\n",
    "from sklearn.model_selection import cross_val_score,train_test_split\n",
    "from sklearn.tree import DecisionTreeRegressor\n",
    "from sklearn.ensemble import RandomForestRegressor\n",
    "import statsmodels.api as sma\n",
    "from sklearn.metrics import mean_squared_error,r2_score"
   ]
  },
  {
   "cell_type": "code",
   "execution_count": 112,
   "id": "f1534a9b",
   "metadata": {},
   "outputs": [],
   "source": [
    "from sklearn.linear_model import LinearRegression,Ridge,Lasso\n",
    "from sklearn.tree import DecisionTreeRegressor\n",
    "from sklearn.ensemble import RandomForestRegressor,AdaBoostRegressor,GradientBoostingRegressor\n",
    "from xgboost import XGBRegressor\n",
    "from sklearn.ensemble import  VotingRegressor,StackingRegressor\n",
    "\n",
    "from sklearn.metrics import r2_score,mean_absolute_percentage_error,mean_squared_error"
   ]
  },
  {
   "cell_type": "code",
   "execution_count": 113,
   "id": "56951cfa",
   "metadata": {},
   "outputs": [],
   "source": [
    "# Split dataset into train and test\n",
    "data_train = data[data['price'].isnull()==False]\n",
    "data_test =  data[data['price'].isnull()==True]"
   ]
  },
  {
   "cell_type": "code",
   "execution_count": 114,
   "id": "42e58e72",
   "metadata": {},
   "outputs": [
    {
     "data": {
      "text/plain": [
       "(1480, 10)"
      ]
     },
     "execution_count": 114,
     "metadata": {},
     "output_type": "execute_result"
    }
   ],
   "source": [
    "data_test.shape"
   ]
  },
  {
   "cell_type": "code",
   "execution_count": 115,
   "id": "86589b23",
   "metadata": {},
   "outputs": [],
   "source": [
    "test_x=data_test.drop(columns=['price'])\n",
    "test_y=data_test['price']"
   ]
  },
  {
   "cell_type": "code",
   "execution_count": 116,
   "id": "6215c6f4",
   "metadata": {},
   "outputs": [],
   "source": [
    "test_x = pd.DataFrame(rs.fit_transform(test_x),columns=test_x.columns)"
   ]
  },
  {
   "cell_type": "code",
   "execution_count": 117,
   "id": "c7376557",
   "metadata": {},
   "outputs": [],
   "source": [
    "x=data_train.drop(columns=['price'])\n",
    "y=data_train['price']"
   ]
  },
  {
   "cell_type": "code",
   "execution_count": 118,
   "id": "2cf346e9",
   "metadata": {},
   "outputs": [],
   "source": [
    "x = pd.DataFrame(rs.fit_transform(x),columns=x.columns)"
   ]
  },
  {
   "cell_type": "code",
   "execution_count": 119,
   "id": "63dd69f3",
   "metadata": {},
   "outputs": [
    {
     "data": {
      "text/plain": [
       "(13274, 9)"
      ]
     },
     "execution_count": 119,
     "metadata": {},
     "output_type": "execute_result"
    }
   ],
   "source": [
    "x.shape"
   ]
  },
  {
   "cell_type": "code",
   "execution_count": 120,
   "id": "32dfec48",
   "metadata": {},
   "outputs": [
    {
     "data": {
      "text/plain": [
       "(13274,)"
      ]
     },
     "execution_count": 120,
     "metadata": {},
     "output_type": "execute_result"
    }
   ],
   "source": [
    "y.shape"
   ]
  },
  {
   "cell_type": "markdown",
   "id": "2fda1884",
   "metadata": {},
   "source": [
    "#### Split dataset into train test and split"
   ]
  },
  {
   "cell_type": "code",
   "execution_count": 121,
   "id": "8b23a97a",
   "metadata": {},
   "outputs": [
    {
     "name": "stdout",
     "output_type": "stream",
     "text": [
      "<class 'pandas.core.frame.DataFrame'>\n",
      "RangeIndex: 13274 entries, 0 to 13273\n",
      "Data columns (total 9 columns):\n",
      " #   Column      Non-Null Count  Dtype  \n",
      "---  ------      --------------  -----  \n",
      " 0   area_type   13274 non-null  float64\n",
      " 1   location    13274 non-null  float64\n",
      " 2   size        13274 non-null  float64\n",
      " 3   society     13274 non-null  float64\n",
      " 4   total_sqft  13274 non-null  float64\n",
      " 5   bath        13274 non-null  float64\n",
      " 6   balcony     13274 non-null  float64\n",
      " 7   date        13274 non-null  float64\n",
      " 8   month       13274 non-null  float64\n",
      "dtypes: float64(9)\n",
      "memory usage: 933.5 KB\n"
     ]
    }
   ],
   "source": [
    "x.info()"
   ]
  },
  {
   "cell_type": "code",
   "execution_count": 122,
   "id": "ff48c109",
   "metadata": {},
   "outputs": [],
   "source": [
    "x_train,x_test,y_train,y_test = train_test_split(x,y,train_size=0.7,random_state=42)"
   ]
  },
  {
   "cell_type": "code",
   "execution_count": 123,
   "id": "e34cf26d",
   "metadata": {},
   "outputs": [
    {
     "name": "stdout",
     "output_type": "stream",
     "text": [
      "(9291, 9) (9291,) (3983, 9) (3983,)\n"
     ]
    }
   ],
   "source": [
    "print(x_train.shape,y_train.shape,x_test.shape,y_test.shape)"
   ]
  },
  {
   "cell_type": "code",
   "execution_count": 124,
   "id": "02f3f404",
   "metadata": {},
   "outputs": [],
   "source": [
    "def hack_eval(y_true,y_pred):\n",
    "    scor = 1 - np.sqrt(np.square(np.log10(y_pred +1) - np.log10(y_true +1)).mean())\n",
    "    return scor"
   ]
  },
  {
   "cell_type": "code",
   "execution_count": 125,
   "id": "bf82f6f6",
   "metadata": {},
   "outputs": [],
   "source": [
    "r2 = []\n",
    "ms_error = []\n",
    "rms_error = []\n",
    "map_error = []\n",
    "fit_model = []\n",
    "hack_score = []\n",
    "\n",
    "def model_evaluation(model,xtrain,ytrain,xtest,ytest):\n",
    "    m = model\n",
    "    m.fit(xtrain,ytrain)\n",
    "    pred = m.predict(xtest)\n",
    "    \n",
    "    print('R2',r2_score(ytest,pred))\n",
    "    print('MSE',mean_squared_error(ytest,pred))\n",
    "    print('RMSE',np.sqrt(mean_squared_error(ytest,pred)))\n",
    "    print('MAPE',mean_absolute_percentage_error(ytest,pred))\n",
    "    print('Hack Score' , hack_eval(ytest,pred))\n",
    "    \n",
    "    inp = input('Do you want to save the model?')\n",
    "    \n",
    "    if inp.lower()=='y':\n",
    "        fit_model.append(str(m))\n",
    "        r2.append(r2_score(ytest,pred))\n",
    "        ms_error.append(mean_squared_error(ytest,pred))\n",
    "        rms_error.append(np.sqrt(mean_squared_error(ytest,pred)))\n",
    "        map_error.append(mean_absolute_percentage_error(ytest,pred))\n",
    "        hack_score.append(hack_eval(ytest,pred))\n",
    "        \n",
    "        global score_card \n",
    "        score_card = pd.DataFrame({'Model':fit_model,\n",
    "                                  'R2':r2,\n",
    "                                  'MSE':ms_error,\n",
    "                                  'RMSE':rms_error,\n",
    "                                  'MAPE':map_error,\n",
    "                                  'Hackathon score':hack_score})"
   ]
  },
  {
   "cell_type": "markdown",
   "id": "29031fe7",
   "metadata": {},
   "source": [
    "#### LInear regtession model"
   ]
  },
  {
   "cell_type": "code",
   "execution_count": 126,
   "id": "80a048d3",
   "metadata": {},
   "outputs": [],
   "source": [
    "lr = LinearRegression()"
   ]
  },
  {
   "cell_type": "code",
   "execution_count": 127,
   "id": "9ee732ac",
   "metadata": {},
   "outputs": [],
   "source": [
    "model = lr.fit(x_train,y_train)"
   ]
  },
  {
   "cell_type": "code",
   "execution_count": 128,
   "id": "695e7a74",
   "metadata": {},
   "outputs": [],
   "source": [
    "y_pred = model.predict(x_test)"
   ]
  },
  {
   "cell_type": "code",
   "execution_count": 129,
   "id": "33d84799",
   "metadata": {},
   "outputs": [
    {
     "data": {
      "text/plain": [
       "15823.391131670998"
      ]
     },
     "execution_count": 129,
     "metadata": {},
     "output_type": "execute_result"
    }
   ],
   "source": [
    "mean_squared_error(y_test,y_pred)"
   ]
  },
  {
   "cell_type": "code",
   "execution_count": 130,
   "id": "6c0a9693",
   "metadata": {},
   "outputs": [
    {
     "data": {
      "text/plain": [
       "0.4304060701426977"
      ]
     },
     "execution_count": 130,
     "metadata": {},
     "output_type": "execute_result"
    }
   ],
   "source": [
    "r2_score(y_test,y_pred)"
   ]
  },
  {
   "cell_type": "markdown",
   "id": "9b4f7c98",
   "metadata": {},
   "source": [
    "#### Decision tree"
   ]
  },
  {
   "cell_type": "code",
   "execution_count": 131,
   "id": "2b8ece76",
   "metadata": {},
   "outputs": [],
   "source": [
    "dt = DecisionTreeRegressor(max_depth=5,random_state=42,max_features=7)"
   ]
  },
  {
   "cell_type": "code",
   "execution_count": 132,
   "id": "00036e27",
   "metadata": {},
   "outputs": [],
   "source": [
    "model = dt.fit(x_train,y_train)"
   ]
  },
  {
   "cell_type": "code",
   "execution_count": 133,
   "id": "08ab0890",
   "metadata": {},
   "outputs": [],
   "source": [
    "y_pred = model.predict(x_test)"
   ]
  },
  {
   "cell_type": "code",
   "execution_count": 134,
   "id": "b72aacc2",
   "metadata": {},
   "outputs": [
    {
     "data": {
      "text/plain": [
       "12434.796218501686"
      ]
     },
     "execution_count": 134,
     "metadata": {},
     "output_type": "execute_result"
    }
   ],
   "source": [
    "mean_squared_error(y_test,y_pred)"
   ]
  },
  {
   "cell_type": "code",
   "execution_count": 135,
   "id": "8fdce1c9",
   "metadata": {},
   "outputs": [
    {
     "data": {
      "text/plain": [
       "0.5523851754574474"
      ]
     },
     "execution_count": 135,
     "metadata": {},
     "output_type": "execute_result"
    }
   ],
   "source": [
    "r2_score(y_test,y_pred)"
   ]
  },
  {
   "cell_type": "markdown",
   "id": "f08a0ca9",
   "metadata": {},
   "source": [
    "#### Testing all the models"
   ]
  },
  {
   "cell_type": "code",
   "execution_count": 136,
   "id": "def5d510",
   "metadata": {},
   "outputs": [
    {
     "name": "stdout",
     "output_type": "stream",
     "text": [
      "R2 0.4304060701426977\n",
      "MSE 15823.391131670998\n",
      "RMSE 125.79106141404085\n",
      "MAPE 0.43057551149166456\n",
      "Hack Score 0.7925419332367071\n",
      "Do you want to save the model?y\n"
     ]
    }
   ],
   "source": [
    "model_evaluation(LinearRegression(),x_train,y_train,x_test,y_test)"
   ]
  },
  {
   "cell_type": "code",
   "execution_count": 137,
   "id": "25947e2f",
   "metadata": {},
   "outputs": [
    {
     "name": "stdout",
     "output_type": "stream",
     "text": [
      "R2 0.5266619073512397\n",
      "MSE 13149.39184723553\n",
      "RMSE 114.67079770907469\n",
      "MAPE 0.31853403136811315\n",
      "Hack Score 0.8330658955459485\n",
      "Do you want to save the model?y\n"
     ]
    }
   ],
   "source": [
    "model_evaluation(DecisionTreeRegressor(max_depth=7,random_state=42),x_train,y_train,x_test,y_test)"
   ]
  },
  {
   "cell_type": "code",
   "execution_count": 138,
   "id": "3bb9dcf6",
   "metadata": {},
   "outputs": [
    {
     "name": "stdout",
     "output_type": "stream",
     "text": [
      "R2 0.5775409382526333\n",
      "MSE 11735.965958805124\n",
      "RMSE 108.33266339754194\n",
      "MAPE 0.275245467666109\n",
      "Hack Score 0.8516416096576601\n",
      "Do you want to save the model?y\n"
     ]
    }
   ],
   "source": [
    "model_evaluation(RandomForestRegressor(max_depth=18,),x_train,y_train,x_test,y_test)"
   ]
  },
  {
   "cell_type": "code",
   "execution_count": 139,
   "id": "d0ccacca",
   "metadata": {},
   "outputs": [
    {
     "name": "stdout",
     "output_type": "stream",
     "text": [
      "R2 0.5509288818182547\n",
      "MSE 12475.25223926947\n",
      "RMSE 111.69266869078503\n",
      "MAPE 0.2810306663201181\n",
      "Hack Score 0.8506535125116204\n",
      "Do you want to save the model?y\n"
     ]
    }
   ],
   "source": [
    "model_evaluation(AdaBoostRegressor(base_estimator=RandomForestRegressor(max_depth=18),n_estimators=10),x_train,y_train,x_test,y_test)"
   ]
  },
  {
   "cell_type": "code",
   "execution_count": 140,
   "id": "d4d68fe6",
   "metadata": {},
   "outputs": [
    {
     "name": "stdout",
     "output_type": "stream",
     "text": [
      "R2 0.58771437466308\n",
      "MSE 11453.346613623531\n",
      "RMSE 107.02030935118592\n",
      "MAPE 0.2531326562544644\n",
      "Hack Score 0.8605545407265933\n",
      "Do you want to save the model?y\n"
     ]
    }
   ],
   "source": [
    "model_evaluation(GradientBoostingRegressor(max_features=7,max_depth=6,n_estimators=700),x_train,y_train,x_test,y_test)"
   ]
  },
  {
   "cell_type": "code",
   "execution_count": 141,
   "id": "5db62b46",
   "metadata": {},
   "outputs": [
    {
     "name": "stdout",
     "output_type": "stream",
     "text": [
      "R2 0.5637020425504478\n",
      "MSE 12120.412224903748\n",
      "RMSE 110.09274374319021\n",
      "MAPE 0.25561258855581975\n",
      "Hack Score 0.8572451158609701\n",
      "Do you want to save the model?y\n"
     ]
    }
   ],
   "source": [
    "model_evaluation(XGBRegressor(n_estimators=130,max_depth=8),x_train,y_train,x_test,y_test)"
   ]
  },
  {
   "cell_type": "code",
   "execution_count": 142,
   "id": "d2189daf",
   "metadata": {},
   "outputs": [
    {
     "data": {
      "text/html": [
       "<div>\n",
       "<style scoped>\n",
       "    .dataframe tbody tr th:only-of-type {\n",
       "        vertical-align: middle;\n",
       "    }\n",
       "\n",
       "    .dataframe tbody tr th {\n",
       "        vertical-align: top;\n",
       "    }\n",
       "\n",
       "    .dataframe thead th {\n",
       "        text-align: right;\n",
       "    }\n",
       "</style>\n",
       "<table border=\"1\" class=\"dataframe\">\n",
       "  <thead>\n",
       "    <tr style=\"text-align: right;\">\n",
       "      <th></th>\n",
       "      <th>Model</th>\n",
       "      <th>R2</th>\n",
       "      <th>MSE</th>\n",
       "      <th>RMSE</th>\n",
       "      <th>MAPE</th>\n",
       "      <th>Hackathon score</th>\n",
       "    </tr>\n",
       "  </thead>\n",
       "  <tbody>\n",
       "    <tr>\n",
       "      <th>0</th>\n",
       "      <td>LinearRegression()</td>\n",
       "      <td>0.430406</td>\n",
       "      <td>15823.391132</td>\n",
       "      <td>125.791061</td>\n",
       "      <td>0.430576</td>\n",
       "      <td>0.792542</td>\n",
       "    </tr>\n",
       "    <tr>\n",
       "      <th>1</th>\n",
       "      <td>DecisionTreeRegressor(max_depth=7, random_stat...</td>\n",
       "      <td>0.526662</td>\n",
       "      <td>13149.391847</td>\n",
       "      <td>114.670798</td>\n",
       "      <td>0.318534</td>\n",
       "      <td>0.833066</td>\n",
       "    </tr>\n",
       "    <tr>\n",
       "      <th>2</th>\n",
       "      <td>RandomForestRegressor(max_depth=18)</td>\n",
       "      <td>0.577541</td>\n",
       "      <td>11735.965959</td>\n",
       "      <td>108.332663</td>\n",
       "      <td>0.275245</td>\n",
       "      <td>0.851642</td>\n",
       "    </tr>\n",
       "    <tr>\n",
       "      <th>3</th>\n",
       "      <td>AdaBoostRegressor(base_estimator=RandomForestR...</td>\n",
       "      <td>0.550929</td>\n",
       "      <td>12475.252239</td>\n",
       "      <td>111.692669</td>\n",
       "      <td>0.281031</td>\n",
       "      <td>0.850654</td>\n",
       "    </tr>\n",
       "    <tr>\n",
       "      <th>4</th>\n",
       "      <td>GradientBoostingRegressor(max_depth=6, max_fea...</td>\n",
       "      <td>0.587714</td>\n",
       "      <td>11453.346614</td>\n",
       "      <td>107.020309</td>\n",
       "      <td>0.253133</td>\n",
       "      <td>0.860555</td>\n",
       "    </tr>\n",
       "    <tr>\n",
       "      <th>5</th>\n",
       "      <td>XGBRegressor(base_score=None, booster=None, ca...</td>\n",
       "      <td>0.563702</td>\n",
       "      <td>12120.412225</td>\n",
       "      <td>110.092744</td>\n",
       "      <td>0.255613</td>\n",
       "      <td>0.857245</td>\n",
       "    </tr>\n",
       "  </tbody>\n",
       "</table>\n",
       "</div>"
      ],
      "text/plain": [
       "                                               Model        R2           MSE  \\\n",
       "0                                 LinearRegression()  0.430406  15823.391132   \n",
       "1  DecisionTreeRegressor(max_depth=7, random_stat...  0.526662  13149.391847   \n",
       "2                RandomForestRegressor(max_depth=18)  0.577541  11735.965959   \n",
       "3  AdaBoostRegressor(base_estimator=RandomForestR...  0.550929  12475.252239   \n",
       "4  GradientBoostingRegressor(max_depth=6, max_fea...  0.587714  11453.346614   \n",
       "5  XGBRegressor(base_score=None, booster=None, ca...  0.563702  12120.412225   \n",
       "\n",
       "         RMSE      MAPE  Hackathon score  \n",
       "0  125.791061  0.430576         0.792542  \n",
       "1  114.670798  0.318534         0.833066  \n",
       "2  108.332663  0.275245         0.851642  \n",
       "3  111.692669  0.281031         0.850654  \n",
       "4  107.020309  0.253133         0.860555  \n",
       "5  110.092744  0.255613         0.857245  "
      ]
     },
     "execution_count": 142,
     "metadata": {},
     "output_type": "execute_result"
    }
   ],
   "source": [
    "score_card"
   ]
  },
  {
   "cell_type": "code",
   "execution_count": 143,
   "id": "3c689c7c",
   "metadata": {},
   "outputs": [],
   "source": [
    "base_models = [('Dt',DecisionTreeRegressor(max_depth=10)),\n",
    "              ('RF',RandomForestRegressor(max_depth=18)),\n",
    "              ('GBR',GradientBoostingRegressor(max_depth=7,n_estimators=150)),\n",
    "              ('XGBR',XGBRegressor(max_depth=8,n_estimators=130))]"
   ]
  },
  {
   "cell_type": "code",
   "execution_count": 144,
   "id": "fc1232a2",
   "metadata": {},
   "outputs": [
    {
     "name": "stdout",
     "output_type": "stream",
     "text": [
      "R2 0.5919170199432149\n",
      "MSE 11336.596598271532\n",
      "RMSE 106.47345489966752\n",
      "MAPE 0.2651847977161137\n",
      "Hack Score 0.8580261444189424\n",
      "Do you want to save the model?y\n"
     ]
    }
   ],
   "source": [
    "model_evaluation(VotingRegressor(base_models),x_train,y_train,x_test,y_test)"
   ]
  },
  {
   "cell_type": "code",
   "execution_count": 145,
   "id": "9d3b50d0",
   "metadata": {},
   "outputs": [],
   "source": [
    "base_models = [('Dt',DecisionTreeRegressor(max_depth=10)),\n",
    "               ('DT2',DecisionTreeRegressor(max_depth=7)),\n",
    "               ('RF2',RandomForestRegressor(max_depth=8)),\n",
    "              ('RF',RandomForestRegressor(max_depth=18)),\n",
    "              ('GBR',GradientBoostingRegressor(max_depth=7,n_estimators=150)),\n",
    "              ('XGBR',XGBRegressor(max_depth=8,n_estimators=130))]"
   ]
  },
  {
   "cell_type": "code",
   "execution_count": 146,
   "id": "3bf72ad1",
   "metadata": {},
   "outputs": [
    {
     "name": "stdout",
     "output_type": "stream",
     "text": [
      "R2 0.566325675127822\n",
      "MSE 12047.527381366202\n",
      "RMSE 109.76122895342509\n",
      "MAPE 0.28550437686465846\n",
      "Hack Score 0.8534267577200891\n",
      "Do you want to save the model?y\n"
     ]
    }
   ],
   "source": [
    "model_evaluation(StackingRegressor(estimators=base_models),x_train,y_train,x_test,y_test)"
   ]
  },
  {
   "cell_type": "code",
   "execution_count": 147,
   "id": "b1c43f1c",
   "metadata": {},
   "outputs": [
    {
     "data": {
      "text/html": [
       "<div>\n",
       "<style scoped>\n",
       "    .dataframe tbody tr th:only-of-type {\n",
       "        vertical-align: middle;\n",
       "    }\n",
       "\n",
       "    .dataframe tbody tr th {\n",
       "        vertical-align: top;\n",
       "    }\n",
       "\n",
       "    .dataframe thead th {\n",
       "        text-align: right;\n",
       "    }\n",
       "</style>\n",
       "<table border=\"1\" class=\"dataframe\">\n",
       "  <thead>\n",
       "    <tr style=\"text-align: right;\">\n",
       "      <th></th>\n",
       "      <th>Model</th>\n",
       "      <th>R2</th>\n",
       "      <th>MSE</th>\n",
       "      <th>RMSE</th>\n",
       "      <th>MAPE</th>\n",
       "      <th>Hackathon score</th>\n",
       "    </tr>\n",
       "  </thead>\n",
       "  <tbody>\n",
       "    <tr>\n",
       "      <th>0</th>\n",
       "      <td>LinearRegression()</td>\n",
       "      <td>0.430406</td>\n",
       "      <td>15823.391132</td>\n",
       "      <td>125.791061</td>\n",
       "      <td>0.430576</td>\n",
       "      <td>0.792542</td>\n",
       "    </tr>\n",
       "    <tr>\n",
       "      <th>1</th>\n",
       "      <td>DecisionTreeRegressor(max_depth=7, random_stat...</td>\n",
       "      <td>0.526662</td>\n",
       "      <td>13149.391847</td>\n",
       "      <td>114.670798</td>\n",
       "      <td>0.318534</td>\n",
       "      <td>0.833066</td>\n",
       "    </tr>\n",
       "    <tr>\n",
       "      <th>2</th>\n",
       "      <td>RandomForestRegressor(max_depth=18)</td>\n",
       "      <td>0.577541</td>\n",
       "      <td>11735.965959</td>\n",
       "      <td>108.332663</td>\n",
       "      <td>0.275245</td>\n",
       "      <td>0.851642</td>\n",
       "    </tr>\n",
       "    <tr>\n",
       "      <th>3</th>\n",
       "      <td>AdaBoostRegressor(base_estimator=RandomForestR...</td>\n",
       "      <td>0.550929</td>\n",
       "      <td>12475.252239</td>\n",
       "      <td>111.692669</td>\n",
       "      <td>0.281031</td>\n",
       "      <td>0.850654</td>\n",
       "    </tr>\n",
       "    <tr>\n",
       "      <th>4</th>\n",
       "      <td>GradientBoostingRegressor(max_depth=6, max_fea...</td>\n",
       "      <td>0.587714</td>\n",
       "      <td>11453.346614</td>\n",
       "      <td>107.020309</td>\n",
       "      <td>0.253133</td>\n",
       "      <td>0.860555</td>\n",
       "    </tr>\n",
       "    <tr>\n",
       "      <th>5</th>\n",
       "      <td>XGBRegressor(base_score=None, booster=None, ca...</td>\n",
       "      <td>0.563702</td>\n",
       "      <td>12120.412225</td>\n",
       "      <td>110.092744</td>\n",
       "      <td>0.255613</td>\n",
       "      <td>0.857245</td>\n",
       "    </tr>\n",
       "    <tr>\n",
       "      <th>6</th>\n",
       "      <td>VotingRegressor(estimators=[('Dt', DecisionTre...</td>\n",
       "      <td>0.591917</td>\n",
       "      <td>11336.596598</td>\n",
       "      <td>106.473455</td>\n",
       "      <td>0.265185</td>\n",
       "      <td>0.858026</td>\n",
       "    </tr>\n",
       "    <tr>\n",
       "      <th>7</th>\n",
       "      <td>StackingRegressor(estimators=[('Dt', DecisionT...</td>\n",
       "      <td>0.566326</td>\n",
       "      <td>12047.527381</td>\n",
       "      <td>109.761229</td>\n",
       "      <td>0.285504</td>\n",
       "      <td>0.853427</td>\n",
       "    </tr>\n",
       "  </tbody>\n",
       "</table>\n",
       "</div>"
      ],
      "text/plain": [
       "                                               Model        R2           MSE  \\\n",
       "0                                 LinearRegression()  0.430406  15823.391132   \n",
       "1  DecisionTreeRegressor(max_depth=7, random_stat...  0.526662  13149.391847   \n",
       "2                RandomForestRegressor(max_depth=18)  0.577541  11735.965959   \n",
       "3  AdaBoostRegressor(base_estimator=RandomForestR...  0.550929  12475.252239   \n",
       "4  GradientBoostingRegressor(max_depth=6, max_fea...  0.587714  11453.346614   \n",
       "5  XGBRegressor(base_score=None, booster=None, ca...  0.563702  12120.412225   \n",
       "6  VotingRegressor(estimators=[('Dt', DecisionTre...  0.591917  11336.596598   \n",
       "7  StackingRegressor(estimators=[('Dt', DecisionT...  0.566326  12047.527381   \n",
       "\n",
       "         RMSE      MAPE  Hackathon score  \n",
       "0  125.791061  0.430576         0.792542  \n",
       "1  114.670798  0.318534         0.833066  \n",
       "2  108.332663  0.275245         0.851642  \n",
       "3  111.692669  0.281031         0.850654  \n",
       "4  107.020309  0.253133         0.860555  \n",
       "5  110.092744  0.255613         0.857245  \n",
       "6  106.473455  0.265185         0.858026  \n",
       "7  109.761229  0.285504         0.853427  "
      ]
     },
     "execution_count": 147,
     "metadata": {},
     "output_type": "execute_result"
    }
   ],
   "source": [
    "score_card"
   ]
  },
  {
   "cell_type": "markdown",
   "id": "1c9bf60c",
   "metadata": {},
   "source": [
    "#### Let's tune xgbregressor"
   ]
  },
  {
   "cell_type": "code",
   "execution_count": 148,
   "id": "d61236bc",
   "metadata": {},
   "outputs": [],
   "source": [
    "param = {'n_estimators':[100,130,150,170,180,200],\n",
    "        'max_depth':[8,9,10,11,12],\n",
    "        'gamma':[0,1,2]}"
   ]
  },
  {
   "cell_type": "code",
   "execution_count": 149,
   "id": "f12b7db8",
   "metadata": {},
   "outputs": [],
   "source": [
    "from sklearn.model_selection import GridSearchCV"
   ]
  },
  {
   "cell_type": "code",
   "execution_count": 150,
   "id": "b2804631",
   "metadata": {},
   "outputs": [],
   "source": [
    "gscv = GridSearchCV(estimator=XGBRegressor(),\n",
    "                   param_grid=param,\n",
    "                   scoring='r2',\n",
    "                   verbose=3,\n",
    "                   cv=5)"
   ]
  },
  {
   "cell_type": "code",
   "execution_count": 151,
   "id": "8fb461f1",
   "metadata": {},
   "outputs": [],
   "source": [
    "#gscv.fit(x_train,y_train)"
   ]
  },
  {
   "cell_type": "code",
   "execution_count": 152,
   "id": "6d31252e",
   "metadata": {},
   "outputs": [],
   "source": [
    "#gscv.best_params_"
   ]
  },
  {
   "cell_type": "markdown",
   "id": "dded179e",
   "metadata": {},
   "source": [
    "#### Let's tune Gradient boosting regressor"
   ]
  },
  {
   "cell_type": "code",
   "execution_count": 153,
   "id": "b0ccd29e",
   "metadata": {},
   "outputs": [
    {
     "name": "stdout",
     "output_type": "stream",
     "text": [
      "R2 0.6101051782714559\n",
      "MSE 10831.327268479661\n",
      "RMSE 104.07366270329713\n",
      "MAPE 0.23196020737394854\n",
      "Hack Score 0.8675964898534656\n",
      "Do you want to save the model?y\n"
     ]
    }
   ],
   "source": [
    "model_evaluation(GradientBoostingRegressor(loss='huber',max_features=3,max_depth=6,n_estimators=700),x_train,y_train,x_test,y_test)"
   ]
  },
  {
   "cell_type": "code",
   "execution_count": 154,
   "id": "384077fd",
   "metadata": {},
   "outputs": [
    {
     "ename": "SyntaxError",
     "evalue": "invalid syntax (2013729439.py, line 4)",
     "output_type": "error",
     "traceback": [
      "\u001b[1;36m  Input \u001b[1;32mIn [154]\u001b[1;36m\u001b[0m\n\u001b[1;33m    ''}\u001b[0m\n\u001b[1;37m      ^\u001b[0m\n\u001b[1;31mSyntaxError\u001b[0m\u001b[1;31m:\u001b[0m invalid syntax\n"
     ]
    }
   ],
   "source": [
    "param = {'n_estimators':[450,500,550,600,650,700,750],\n",
    "        'max_depth':[4,5,6,7,8],\n",
    "        'max_features':[4,5,6,7],\n",
    "        ''}"
   ]
  },
  {
   "cell_type": "code",
   "execution_count": 156,
   "id": "0f744ef2",
   "metadata": {},
   "outputs": [
    {
     "name": "stdout",
     "output_type": "stream",
     "text": [
      "R2 0.5638796291503334\n",
      "MSE 12115.478846785694\n",
      "RMSE 110.07033590748097\n",
      "MAPE 0.25768641825934363\n",
      "Hack Score 0.8565681778580019\n",
      "Do you want to save the model?\n"
     ]
    }
   ],
   "source": [
    "model_evaluation(XGBRegressor(n_estimators=100,max_depth=8,gamma=2),x_train,y_train,x_test,y_test)"
   ]
  },
  {
   "cell_type": "code",
   "execution_count": 157,
   "id": "14128201",
   "metadata": {},
   "outputs": [
    {
     "data": {
      "text/html": [
       "<div>\n",
       "<style scoped>\n",
       "    .dataframe tbody tr th:only-of-type {\n",
       "        vertical-align: middle;\n",
       "    }\n",
       "\n",
       "    .dataframe tbody tr th {\n",
       "        vertical-align: top;\n",
       "    }\n",
       "\n",
       "    .dataframe thead th {\n",
       "        text-align: right;\n",
       "    }\n",
       "</style>\n",
       "<table border=\"1\" class=\"dataframe\">\n",
       "  <thead>\n",
       "    <tr style=\"text-align: right;\">\n",
       "      <th></th>\n",
       "      <th>Model</th>\n",
       "      <th>R2</th>\n",
       "      <th>MSE</th>\n",
       "      <th>RMSE</th>\n",
       "      <th>MAPE</th>\n",
       "      <th>Hackathon score</th>\n",
       "    </tr>\n",
       "  </thead>\n",
       "  <tbody>\n",
       "    <tr>\n",
       "      <th>0</th>\n",
       "      <td>LinearRegression()</td>\n",
       "      <td>0.430406</td>\n",
       "      <td>15823.391132</td>\n",
       "      <td>125.791061</td>\n",
       "      <td>0.430576</td>\n",
       "      <td>0.792542</td>\n",
       "    </tr>\n",
       "    <tr>\n",
       "      <th>1</th>\n",
       "      <td>DecisionTreeRegressor(max_depth=7, random_stat...</td>\n",
       "      <td>0.526662</td>\n",
       "      <td>13149.391847</td>\n",
       "      <td>114.670798</td>\n",
       "      <td>0.318534</td>\n",
       "      <td>0.833066</td>\n",
       "    </tr>\n",
       "    <tr>\n",
       "      <th>2</th>\n",
       "      <td>RandomForestRegressor(max_depth=18)</td>\n",
       "      <td>0.577541</td>\n",
       "      <td>11735.965959</td>\n",
       "      <td>108.332663</td>\n",
       "      <td>0.275245</td>\n",
       "      <td>0.851642</td>\n",
       "    </tr>\n",
       "    <tr>\n",
       "      <th>3</th>\n",
       "      <td>AdaBoostRegressor(base_estimator=RandomForestR...</td>\n",
       "      <td>0.550929</td>\n",
       "      <td>12475.252239</td>\n",
       "      <td>111.692669</td>\n",
       "      <td>0.281031</td>\n",
       "      <td>0.850654</td>\n",
       "    </tr>\n",
       "    <tr>\n",
       "      <th>4</th>\n",
       "      <td>GradientBoostingRegressor(max_depth=6, max_fea...</td>\n",
       "      <td>0.587714</td>\n",
       "      <td>11453.346614</td>\n",
       "      <td>107.020309</td>\n",
       "      <td>0.253133</td>\n",
       "      <td>0.860555</td>\n",
       "    </tr>\n",
       "    <tr>\n",
       "      <th>5</th>\n",
       "      <td>XGBRegressor(base_score=None, booster=None, ca...</td>\n",
       "      <td>0.563702</td>\n",
       "      <td>12120.412225</td>\n",
       "      <td>110.092744</td>\n",
       "      <td>0.255613</td>\n",
       "      <td>0.857245</td>\n",
       "    </tr>\n",
       "    <tr>\n",
       "      <th>6</th>\n",
       "      <td>VotingRegressor(estimators=[('Dt', DecisionTre...</td>\n",
       "      <td>0.591917</td>\n",
       "      <td>11336.596598</td>\n",
       "      <td>106.473455</td>\n",
       "      <td>0.265185</td>\n",
       "      <td>0.858026</td>\n",
       "    </tr>\n",
       "    <tr>\n",
       "      <th>7</th>\n",
       "      <td>StackingRegressor(estimators=[('Dt', DecisionT...</td>\n",
       "      <td>0.566326</td>\n",
       "      <td>12047.527381</td>\n",
       "      <td>109.761229</td>\n",
       "      <td>0.285504</td>\n",
       "      <td>0.853427</td>\n",
       "    </tr>\n",
       "    <tr>\n",
       "      <th>8</th>\n",
       "      <td>GradientBoostingRegressor(loss='huber', max_de...</td>\n",
       "      <td>0.610105</td>\n",
       "      <td>10831.327268</td>\n",
       "      <td>104.073663</td>\n",
       "      <td>0.231960</td>\n",
       "      <td>0.867596</td>\n",
       "    </tr>\n",
       "    <tr>\n",
       "      <th>9</th>\n",
       "      <td>XGBRegressor(base_score=None, booster=None, ca...</td>\n",
       "      <td>0.563880</td>\n",
       "      <td>12115.478847</td>\n",
       "      <td>110.070336</td>\n",
       "      <td>0.257686</td>\n",
       "      <td>0.856568</td>\n",
       "    </tr>\n",
       "  </tbody>\n",
       "</table>\n",
       "</div>"
      ],
      "text/plain": [
       "                                               Model        R2           MSE  \\\n",
       "0                                 LinearRegression()  0.430406  15823.391132   \n",
       "1  DecisionTreeRegressor(max_depth=7, random_stat...  0.526662  13149.391847   \n",
       "2                RandomForestRegressor(max_depth=18)  0.577541  11735.965959   \n",
       "3  AdaBoostRegressor(base_estimator=RandomForestR...  0.550929  12475.252239   \n",
       "4  GradientBoostingRegressor(max_depth=6, max_fea...  0.587714  11453.346614   \n",
       "5  XGBRegressor(base_score=None, booster=None, ca...  0.563702  12120.412225   \n",
       "6  VotingRegressor(estimators=[('Dt', DecisionTre...  0.591917  11336.596598   \n",
       "7  StackingRegressor(estimators=[('Dt', DecisionT...  0.566326  12047.527381   \n",
       "8  GradientBoostingRegressor(loss='huber', max_de...  0.610105  10831.327268   \n",
       "9  XGBRegressor(base_score=None, booster=None, ca...  0.563880  12115.478847   \n",
       "\n",
       "         RMSE      MAPE  Hackathon score  \n",
       "0  125.791061  0.430576         0.792542  \n",
       "1  114.670798  0.318534         0.833066  \n",
       "2  108.332663  0.275245         0.851642  \n",
       "3  111.692669  0.281031         0.850654  \n",
       "4  107.020309  0.253133         0.860555  \n",
       "5  110.092744  0.255613         0.857245  \n",
       "6  106.473455  0.265185         0.858026  \n",
       "7  109.761229  0.285504         0.853427  \n",
       "8  104.073663  0.231960         0.867596  \n",
       "9  110.070336  0.257686         0.856568  "
      ]
     },
     "execution_count": 157,
     "metadata": {},
     "output_type": "execute_result"
    }
   ],
   "source": [
    "score_card"
   ]
  },
  {
   "cell_type": "code",
   "execution_count": 158,
   "id": "18d8e3e5",
   "metadata": {},
   "outputs": [],
   "source": [
    "xgb = XGBRegressor(n_estimators=130,max_depth=8)"
   ]
  },
  {
   "cell_type": "code",
   "execution_count": 159,
   "id": "a14f7ba3",
   "metadata": {},
   "outputs": [],
   "source": [
    "model = xgb.fit(x_train,y_train)"
   ]
  },
  {
   "cell_type": "code",
   "execution_count": 160,
   "id": "3ca50373",
   "metadata": {},
   "outputs": [],
   "source": [
    "y_pred = model.predict(x_test)"
   ]
  },
  {
   "cell_type": "code",
   "execution_count": 161,
   "id": "1fc80169",
   "metadata": {},
   "outputs": [
    {
     "data": {
      "text/plain": [
       "0.5637020425504478"
      ]
     },
     "execution_count": 161,
     "metadata": {},
     "output_type": "execute_result"
    }
   ],
   "source": [
    "r2_score(y_test,y_pred)"
   ]
  },
  {
   "cell_type": "code",
   "execution_count": 162,
   "id": "32b41093",
   "metadata": {},
   "outputs": [
    {
     "data": {
      "text/html": [
       "<div>\n",
       "<style scoped>\n",
       "    .dataframe tbody tr th:only-of-type {\n",
       "        vertical-align: middle;\n",
       "    }\n",
       "\n",
       "    .dataframe tbody tr th {\n",
       "        vertical-align: top;\n",
       "    }\n",
       "\n",
       "    .dataframe thead th {\n",
       "        text-align: right;\n",
       "    }\n",
       "</style>\n",
       "<table border=\"1\" class=\"dataframe\">\n",
       "  <thead>\n",
       "    <tr style=\"text-align: right;\">\n",
       "      <th></th>\n",
       "      <th>Model</th>\n",
       "      <th>R2</th>\n",
       "      <th>MSE</th>\n",
       "      <th>RMSE</th>\n",
       "      <th>MAPE</th>\n",
       "      <th>Hackathon score</th>\n",
       "    </tr>\n",
       "  </thead>\n",
       "  <tbody>\n",
       "    <tr>\n",
       "      <th>0</th>\n",
       "      <td>LinearRegression()</td>\n",
       "      <td>0.430406</td>\n",
       "      <td>15823.391132</td>\n",
       "      <td>125.791061</td>\n",
       "      <td>0.430576</td>\n",
       "      <td>0.792542</td>\n",
       "    </tr>\n",
       "    <tr>\n",
       "      <th>1</th>\n",
       "      <td>DecisionTreeRegressor(max_depth=7, random_stat...</td>\n",
       "      <td>0.526662</td>\n",
       "      <td>13149.391847</td>\n",
       "      <td>114.670798</td>\n",
       "      <td>0.318534</td>\n",
       "      <td>0.833066</td>\n",
       "    </tr>\n",
       "    <tr>\n",
       "      <th>2</th>\n",
       "      <td>RandomForestRegressor(max_depth=18)</td>\n",
       "      <td>0.577541</td>\n",
       "      <td>11735.965959</td>\n",
       "      <td>108.332663</td>\n",
       "      <td>0.275245</td>\n",
       "      <td>0.851642</td>\n",
       "    </tr>\n",
       "    <tr>\n",
       "      <th>3</th>\n",
       "      <td>AdaBoostRegressor(base_estimator=RandomForestR...</td>\n",
       "      <td>0.550929</td>\n",
       "      <td>12475.252239</td>\n",
       "      <td>111.692669</td>\n",
       "      <td>0.281031</td>\n",
       "      <td>0.850654</td>\n",
       "    </tr>\n",
       "    <tr>\n",
       "      <th>4</th>\n",
       "      <td>GradientBoostingRegressor(max_depth=6, max_fea...</td>\n",
       "      <td>0.587714</td>\n",
       "      <td>11453.346614</td>\n",
       "      <td>107.020309</td>\n",
       "      <td>0.253133</td>\n",
       "      <td>0.860555</td>\n",
       "    </tr>\n",
       "    <tr>\n",
       "      <th>5</th>\n",
       "      <td>XGBRegressor(base_score=None, booster=None, ca...</td>\n",
       "      <td>0.563702</td>\n",
       "      <td>12120.412225</td>\n",
       "      <td>110.092744</td>\n",
       "      <td>0.255613</td>\n",
       "      <td>0.857245</td>\n",
       "    </tr>\n",
       "    <tr>\n",
       "      <th>6</th>\n",
       "      <td>VotingRegressor(estimators=[('Dt', DecisionTre...</td>\n",
       "      <td>0.591917</td>\n",
       "      <td>11336.596598</td>\n",
       "      <td>106.473455</td>\n",
       "      <td>0.265185</td>\n",
       "      <td>0.858026</td>\n",
       "    </tr>\n",
       "    <tr>\n",
       "      <th>7</th>\n",
       "      <td>StackingRegressor(estimators=[('Dt', DecisionT...</td>\n",
       "      <td>0.566326</td>\n",
       "      <td>12047.527381</td>\n",
       "      <td>109.761229</td>\n",
       "      <td>0.285504</td>\n",
       "      <td>0.853427</td>\n",
       "    </tr>\n",
       "    <tr>\n",
       "      <th>8</th>\n",
       "      <td>GradientBoostingRegressor(loss='huber', max_de...</td>\n",
       "      <td>0.610105</td>\n",
       "      <td>10831.327268</td>\n",
       "      <td>104.073663</td>\n",
       "      <td>0.231960</td>\n",
       "      <td>0.867596</td>\n",
       "    </tr>\n",
       "    <tr>\n",
       "      <th>9</th>\n",
       "      <td>XGBRegressor(base_score=None, booster=None, ca...</td>\n",
       "      <td>0.563880</td>\n",
       "      <td>12115.478847</td>\n",
       "      <td>110.070336</td>\n",
       "      <td>0.257686</td>\n",
       "      <td>0.856568</td>\n",
       "    </tr>\n",
       "  </tbody>\n",
       "</table>\n",
       "</div>"
      ],
      "text/plain": [
       "                                               Model        R2           MSE  \\\n",
       "0                                 LinearRegression()  0.430406  15823.391132   \n",
       "1  DecisionTreeRegressor(max_depth=7, random_stat...  0.526662  13149.391847   \n",
       "2                RandomForestRegressor(max_depth=18)  0.577541  11735.965959   \n",
       "3  AdaBoostRegressor(base_estimator=RandomForestR...  0.550929  12475.252239   \n",
       "4  GradientBoostingRegressor(max_depth=6, max_fea...  0.587714  11453.346614   \n",
       "5  XGBRegressor(base_score=None, booster=None, ca...  0.563702  12120.412225   \n",
       "6  VotingRegressor(estimators=[('Dt', DecisionTre...  0.591917  11336.596598   \n",
       "7  StackingRegressor(estimators=[('Dt', DecisionT...  0.566326  12047.527381   \n",
       "8  GradientBoostingRegressor(loss='huber', max_de...  0.610105  10831.327268   \n",
       "9  XGBRegressor(base_score=None, booster=None, ca...  0.563880  12115.478847   \n",
       "\n",
       "         RMSE      MAPE  Hackathon score  \n",
       "0  125.791061  0.430576         0.792542  \n",
       "1  114.670798  0.318534         0.833066  \n",
       "2  108.332663  0.275245         0.851642  \n",
       "3  111.692669  0.281031         0.850654  \n",
       "4  107.020309  0.253133         0.860555  \n",
       "5  110.092744  0.255613         0.857245  \n",
       "6  106.473455  0.265185         0.858026  \n",
       "7  109.761229  0.285504         0.853427  \n",
       "8  104.073663  0.231960         0.867596  \n",
       "9  110.070336  0.257686         0.856568  "
      ]
     },
     "execution_count": 162,
     "metadata": {},
     "output_type": "execute_result"
    }
   ],
   "source": [
    "score_card"
   ]
  },
  {
   "cell_type": "markdown",
   "id": "31ef5b92",
   "metadata": {},
   "source": [
    "## LEt's make another final model\n"
   ]
  },
  {
   "cell_type": "code",
   "execution_count": 163,
   "id": "237988f2",
   "metadata": {},
   "outputs": [
    {
     "name": "stdout",
     "output_type": "stream",
     "text": [
      "R2 0.6070312137883298\n",
      "MSE 10916.722389094017\n",
      "RMSE 104.48312011561492\n",
      "MAPE 0.23156953584461268\n",
      "Hack Score 0.8673628845730835\n",
      "Do you want to save the model?y\n"
     ]
    }
   ],
   "source": [
    "model_evaluation(GradientBoostingRegressor(loss='huber',max_features=3,max_depth=6,n_estimators=700),x_train,y_train,x_test,y_test)"
   ]
  },
  {
   "cell_type": "code",
   "execution_count": 176,
   "id": "7a0c8725",
   "metadata": {},
   "outputs": [],
   "source": [
    "gbr = GradientBoostingRegressor(loss='huber',max_features=3,max_depth=6,n_estimators=700)"
   ]
  },
  {
   "cell_type": "code",
   "execution_count": 177,
   "id": "ab82f998",
   "metadata": {},
   "outputs": [],
   "source": [
    "model = gbr.fit(x_train,y_train)"
   ]
  },
  {
   "cell_type": "code",
   "execution_count": 178,
   "id": "9ff6bab1",
   "metadata": {},
   "outputs": [],
   "source": [
    "y_pred = model.predict(x_test)"
   ]
  },
  {
   "cell_type": "code",
   "execution_count": 179,
   "id": "f363c076",
   "metadata": {},
   "outputs": [
    {
     "data": {
      "text/plain": [
       "0.6051226788597521"
      ]
     },
     "execution_count": 179,
     "metadata": {},
     "output_type": "execute_result"
    }
   ],
   "source": [
    "r2_score(y_test,y_pred)"
   ]
  },
  {
   "cell_type": "code",
   "execution_count": 180,
   "id": "21c46079",
   "metadata": {},
   "outputs": [
    {
     "data": {
      "text/plain": [
       "0.8683341660143037"
      ]
     },
     "execution_count": 180,
     "metadata": {},
     "output_type": "execute_result"
    }
   ],
   "source": [
    "1 - np.sqrt(np.square(np.log10(y_pred +1) - np.log10(y_test +1)).mean())"
   ]
  },
  {
   "cell_type": "markdown",
   "id": "cfab2680",
   "metadata": {},
   "source": [
    "#### Let's preprocess the test data too before predicting"
   ]
  },
  {
   "cell_type": "code",
   "execution_count": 181,
   "id": "b33206ab",
   "metadata": {},
   "outputs": [
    {
     "data": {
      "text/html": [
       "<div>\n",
       "<style scoped>\n",
       "    .dataframe tbody tr th:only-of-type {\n",
       "        vertical-align: middle;\n",
       "    }\n",
       "\n",
       "    .dataframe tbody tr th {\n",
       "        vertical-align: top;\n",
       "    }\n",
       "\n",
       "    .dataframe thead th {\n",
       "        text-align: right;\n",
       "    }\n",
       "</style>\n",
       "<table border=\"1\" class=\"dataframe\">\n",
       "  <thead>\n",
       "    <tr style=\"text-align: right;\">\n",
       "      <th></th>\n",
       "      <th>area_type</th>\n",
       "      <th>location</th>\n",
       "      <th>size</th>\n",
       "      <th>society</th>\n",
       "      <th>total_sqft</th>\n",
       "      <th>bath</th>\n",
       "      <th>balcony</th>\n",
       "      <th>date</th>\n",
       "      <th>month</th>\n",
       "    </tr>\n",
       "  </thead>\n",
       "  <tbody>\n",
       "    <tr>\n",
       "      <th>0</th>\n",
       "      <td>0.0</td>\n",
       "      <td>-0.601286</td>\n",
       "      <td>-1.0</td>\n",
       "      <td>0.894484</td>\n",
       "      <td>-0.126178</td>\n",
       "      <td>0.0</td>\n",
       "      <td>1.0</td>\n",
       "      <td>0.0</td>\n",
       "      <td>0.0</td>\n",
       "    </tr>\n",
       "    <tr>\n",
       "      <th>1</th>\n",
       "      <td>-1.0</td>\n",
       "      <td>-0.892283</td>\n",
       "      <td>6.0</td>\n",
       "      <td>-0.230216</td>\n",
       "      <td>1.799263</td>\n",
       "      <td>7.0</td>\n",
       "      <td>1.0</td>\n",
       "      <td>0.0</td>\n",
       "      <td>0.0</td>\n",
       "    </tr>\n",
       "    <tr>\n",
       "      <th>2</th>\n",
       "      <td>-1.0</td>\n",
       "      <td>-0.199357</td>\n",
       "      <td>1.0</td>\n",
       "      <td>0.986811</td>\n",
       "      <td>0.570258</td>\n",
       "      <td>3.0</td>\n",
       "      <td>1.0</td>\n",
       "      <td>18.0</td>\n",
       "      <td>4.0</td>\n",
       "    </tr>\n",
       "    <tr>\n",
       "      <th>3</th>\n",
       "      <td>0.0</td>\n",
       "      <td>0.101286</td>\n",
       "      <td>0.0</td>\n",
       "      <td>1.458633</td>\n",
       "      <td>0.032773</td>\n",
       "      <td>1.0</td>\n",
       "      <td>0.0</td>\n",
       "      <td>0.0</td>\n",
       "      <td>0.0</td>\n",
       "    </tr>\n",
       "    <tr>\n",
       "      <th>4</th>\n",
       "      <td>0.0</td>\n",
       "      <td>0.110932</td>\n",
       "      <td>-1.0</td>\n",
       "      <td>-0.148681</td>\n",
       "      <td>-0.231053</td>\n",
       "      <td>0.0</td>\n",
       "      <td>0.0</td>\n",
       "      <td>0.0</td>\n",
       "      <td>0.0</td>\n",
       "    </tr>\n",
       "    <tr>\n",
       "      <th>...</th>\n",
       "      <td>...</td>\n",
       "      <td>...</td>\n",
       "      <td>...</td>\n",
       "      <td>...</td>\n",
       "      <td>...</td>\n",
       "      <td>...</td>\n",
       "      <td>...</td>\n",
       "      <td>...</td>\n",
       "      <td>...</td>\n",
       "    </tr>\n",
       "    <tr>\n",
       "      <th>1475</th>\n",
       "      <td>0.0</td>\n",
       "      <td>1.006431</td>\n",
       "      <td>-1.0</td>\n",
       "      <td>0.774580</td>\n",
       "      <td>-0.091766</td>\n",
       "      <td>0.0</td>\n",
       "      <td>0.0</td>\n",
       "      <td>0.0</td>\n",
       "      <td>0.0</td>\n",
       "    </tr>\n",
       "    <tr>\n",
       "      <th>1476</th>\n",
       "      <td>0.0</td>\n",
       "      <td>-0.290997</td>\n",
       "      <td>0.0</td>\n",
       "      <td>-0.230216</td>\n",
       "      <td>0.586645</td>\n",
       "      <td>1.0</td>\n",
       "      <td>1.0</td>\n",
       "      <td>0.0</td>\n",
       "      <td>0.0</td>\n",
       "    </tr>\n",
       "    <tr>\n",
       "      <th>1477</th>\n",
       "      <td>0.0</td>\n",
       "      <td>-0.553055</td>\n",
       "      <td>-1.0</td>\n",
       "      <td>1.344724</td>\n",
       "      <td>-0.140926</td>\n",
       "      <td>0.0</td>\n",
       "      <td>1.0</td>\n",
       "      <td>0.0</td>\n",
       "      <td>0.0</td>\n",
       "    </tr>\n",
       "    <tr>\n",
       "      <th>1478</th>\n",
       "      <td>-3.0</td>\n",
       "      <td>0.884244</td>\n",
       "      <td>-1.0</td>\n",
       "      <td>1.011990</td>\n",
       "      <td>-0.501434</td>\n",
       "      <td>0.0</td>\n",
       "      <td>0.0</td>\n",
       "      <td>18.0</td>\n",
       "      <td>2.0</td>\n",
       "    </tr>\n",
       "    <tr>\n",
       "      <th>1479</th>\n",
       "      <td>-3.0</td>\n",
       "      <td>-0.935691</td>\n",
       "      <td>-1.0</td>\n",
       "      <td>0.540168</td>\n",
       "      <td>-0.249078</td>\n",
       "      <td>0.0</td>\n",
       "      <td>1.0</td>\n",
       "      <td>0.0</td>\n",
       "      <td>0.0</td>\n",
       "    </tr>\n",
       "  </tbody>\n",
       "</table>\n",
       "<p>1480 rows × 9 columns</p>\n",
       "</div>"
      ],
      "text/plain": [
       "      area_type  location  size   society  total_sqft  bath  balcony  date  \\\n",
       "0           0.0 -0.601286  -1.0  0.894484   -0.126178   0.0      1.0   0.0   \n",
       "1          -1.0 -0.892283   6.0 -0.230216    1.799263   7.0      1.0   0.0   \n",
       "2          -1.0 -0.199357   1.0  0.986811    0.570258   3.0      1.0  18.0   \n",
       "3           0.0  0.101286   0.0  1.458633    0.032773   1.0      0.0   0.0   \n",
       "4           0.0  0.110932  -1.0 -0.148681   -0.231053   0.0      0.0   0.0   \n",
       "...         ...       ...   ...       ...         ...   ...      ...   ...   \n",
       "1475        0.0  1.006431  -1.0  0.774580   -0.091766   0.0      0.0   0.0   \n",
       "1476        0.0 -0.290997   0.0 -0.230216    0.586645   1.0      1.0   0.0   \n",
       "1477        0.0 -0.553055  -1.0  1.344724   -0.140926   0.0      1.0   0.0   \n",
       "1478       -3.0  0.884244  -1.0  1.011990   -0.501434   0.0      0.0  18.0   \n",
       "1479       -3.0 -0.935691  -1.0  0.540168   -0.249078   0.0      1.0   0.0   \n",
       "\n",
       "      month  \n",
       "0       0.0  \n",
       "1       0.0  \n",
       "2       4.0  \n",
       "3       0.0  \n",
       "4       0.0  \n",
       "...     ...  \n",
       "1475    0.0  \n",
       "1476    0.0  \n",
       "1477    0.0  \n",
       "1478    2.0  \n",
       "1479    0.0  \n",
       "\n",
       "[1480 rows x 9 columns]"
      ]
     },
     "execution_count": 181,
     "metadata": {},
     "output_type": "execute_result"
    }
   ],
   "source": [
    "test_x"
   ]
  },
  {
   "cell_type": "code",
   "execution_count": 182,
   "id": "837a4de6",
   "metadata": {},
   "outputs": [],
   "source": [
    "final_pred = model.predict(test_x)"
   ]
  },
  {
   "cell_type": "code",
   "execution_count": 183,
   "id": "b9e1a6bc",
   "metadata": {},
   "outputs": [
    {
     "data": {
      "text/plain": [
       "array([ 63.6615477 , 315.60419745, 191.44176949, ...,  68.86743589,\n",
       "        43.31199822,  46.08293714])"
      ]
     },
     "execution_count": 183,
     "metadata": {},
     "output_type": "execute_result"
    }
   ],
   "source": [
    "final_pred"
   ]
  },
  {
   "cell_type": "code",
   "execution_count": 184,
   "id": "2519f6f8",
   "metadata": {},
   "outputs": [
    {
     "data": {
      "text/plain": [
       "1480"
      ]
     },
     "execution_count": 184,
     "metadata": {},
     "output_type": "execute_result"
    }
   ],
   "source": [
    "len(final_pred)"
   ]
  },
  {
   "cell_type": "code",
   "execution_count": 185,
   "id": "5a4bb93b",
   "metadata": {},
   "outputs": [],
   "source": [
    "final_submission01 = pd.DataFrame({'price':final_pred})"
   ]
  },
  {
   "cell_type": "code",
   "execution_count": 187,
   "id": "7ead3549",
   "metadata": {},
   "outputs": [],
   "source": [
    "final_submission01.to_csv('final_submissionprice02.csv',index=False)"
   ]
  },
  {
   "cell_type": "code",
   "execution_count": 189,
   "id": "288474af",
   "metadata": {},
   "outputs": [
    {
     "data": {
      "text/html": [
       "<div>\n",
       "<style scoped>\n",
       "    .dataframe tbody tr th:only-of-type {\n",
       "        vertical-align: middle;\n",
       "    }\n",
       "\n",
       "    .dataframe tbody tr th {\n",
       "        vertical-align: top;\n",
       "    }\n",
       "\n",
       "    .dataframe thead th {\n",
       "        text-align: right;\n",
       "    }\n",
       "</style>\n",
       "<table border=\"1\" class=\"dataframe\">\n",
       "  <thead>\n",
       "    <tr style=\"text-align: right;\">\n",
       "      <th></th>\n",
       "      <th>price</th>\n",
       "    </tr>\n",
       "  </thead>\n",
       "  <tbody>\n",
       "    <tr>\n",
       "      <th>0</th>\n",
       "      <td>63.661548</td>\n",
       "    </tr>\n",
       "    <tr>\n",
       "      <th>1</th>\n",
       "      <td>315.604197</td>\n",
       "    </tr>\n",
       "    <tr>\n",
       "      <th>2</th>\n",
       "      <td>191.441769</td>\n",
       "    </tr>\n",
       "    <tr>\n",
       "      <th>3</th>\n",
       "      <td>92.961912</td>\n",
       "    </tr>\n",
       "    <tr>\n",
       "      <th>4</th>\n",
       "      <td>54.207567</td>\n",
       "    </tr>\n",
       "    <tr>\n",
       "      <th>...</th>\n",
       "      <td>...</td>\n",
       "    </tr>\n",
       "    <tr>\n",
       "      <th>1475</th>\n",
       "      <td>73.707116</td>\n",
       "    </tr>\n",
       "    <tr>\n",
       "      <th>1476</th>\n",
       "      <td>97.441933</td>\n",
       "    </tr>\n",
       "    <tr>\n",
       "      <th>1477</th>\n",
       "      <td>68.867436</td>\n",
       "    </tr>\n",
       "    <tr>\n",
       "      <th>1478</th>\n",
       "      <td>43.311998</td>\n",
       "    </tr>\n",
       "    <tr>\n",
       "      <th>1479</th>\n",
       "      <td>46.082937</td>\n",
       "    </tr>\n",
       "  </tbody>\n",
       "</table>\n",
       "<p>1480 rows × 1 columns</p>\n",
       "</div>"
      ],
      "text/plain": [
       "           price\n",
       "0      63.661548\n",
       "1     315.604197\n",
       "2     191.441769\n",
       "3      92.961912\n",
       "4      54.207567\n",
       "...          ...\n",
       "1475   73.707116\n",
       "1476   97.441933\n",
       "1477   68.867436\n",
       "1478   43.311998\n",
       "1479   46.082937\n",
       "\n",
       "[1480 rows x 1 columns]"
      ]
     },
     "execution_count": 189,
     "metadata": {},
     "output_type": "execute_result"
    }
   ],
   "source": [
    "final_submission01"
   ]
  },
  {
   "cell_type": "code",
   "execution_count": null,
   "id": "f9856348",
   "metadata": {},
   "outputs": [],
   "source": []
  },
  {
   "cell_type": "code",
   "execution_count": 190,
   "id": "be6af60e",
   "metadata": {},
   "outputs": [],
   "source": [
    "\n",
    "final_model = gbr.fit(x,y)"
   ]
  },
  {
   "cell_type": "code",
   "execution_count": 191,
   "id": "9b7998c4",
   "metadata": {},
   "outputs": [],
   "source": [
    "final_pred = final_model.predict(test_x)"
   ]
  },
  {
   "cell_type": "code",
   "execution_count": 192,
   "id": "fb9a903a",
   "metadata": {},
   "outputs": [
    {
     "data": {
      "text/plain": [
       "array([ 61.18100856, 368.96078758, 218.71320878, ...,  55.16699867,\n",
       "        49.98116718,  48.69621   ])"
      ]
     },
     "execution_count": 192,
     "metadata": {},
     "output_type": "execute_result"
    }
   ],
   "source": [
    "final_pred"
   ]
  },
  {
   "cell_type": "code",
   "execution_count": 193,
   "id": "e5686556",
   "metadata": {},
   "outputs": [],
   "source": [
    "final_submission03 = pd.DataFrame({'price':final_pred})"
   ]
  },
  {
   "cell_type": "code",
   "execution_count": 194,
   "id": "eedc44a1",
   "metadata": {},
   "outputs": [],
   "source": [
    "final_submission03.to_csv('final_submissionprice03.csv',index=False)"
   ]
  },
  {
   "cell_type": "code",
   "execution_count": null,
   "id": "5c8eadd6",
   "metadata": {},
   "outputs": [],
   "source": []
  },
  {
   "cell_type": "code",
   "execution_count": null,
   "id": "d624f554",
   "metadata": {},
   "outputs": [],
   "source": [
    "y"
   ]
  },
  {
   "cell_type": "code",
   "execution_count": null,
   "id": "ceea0c13",
   "metadata": {},
   "outputs": [],
   "source": []
  }
 ],
 "metadata": {
  "kernelspec": {
   "display_name": "Python 3 (ipykernel)",
   "language": "python",
   "name": "python3"
  },
  "language_info": {
   "codemirror_mode": {
    "name": "ipython",
    "version": 3
   },
   "file_extension": ".py",
   "mimetype": "text/x-python",
   "name": "python",
   "nbconvert_exporter": "python",
   "pygments_lexer": "ipython3",
   "version": "3.9.12"
  }
 },
 "nbformat": 4,
 "nbformat_minor": 5
}
